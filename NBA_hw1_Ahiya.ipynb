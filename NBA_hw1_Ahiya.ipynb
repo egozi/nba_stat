{
 "cells": [
  {
   "cell_type": "code",
   "execution_count": 1,
   "metadata": {},
   "outputs": [],
   "source": [
    "%load_ext autoreload\n",
    "%autoreload 2\n",
    "\n",
    "import numpy as np\n",
    "from datetime import datetime, timedelta\n",
    "from pprint import pprint\n",
    "import requests\n",
    "\n",
    "from scoreboard import Scoreboard\n",
    "from nba_util import _api_scrape\n",
    "from nba_util import get_all_player_ids"
   ]
  },
  {
   "cell_type": "code",
   "execution_count": 2,
   "metadata": {
    "collapsed": true
   },
   "outputs": [],
   "source": [
    "import pandas as pd\n",
    "from IPython.core.display import display"
   ]
  },
  {
   "cell_type": "markdown",
   "metadata": {},
   "source": [
    "# shortcuts:\n",
    "shift+Enter -> run cell + skip to next cell  \n",
    "ctrl+Enter -> run cell (no skip)"
   ]
  },
  {
   "cell_type": "markdown",
   "metadata": {},
   "source": [
    "# List"
   ]
  },
  {
   "cell_type": "code",
   "execution_count": 3,
   "metadata": {
    "collapsed": true
   },
   "outputs": [],
   "source": [
    "# list definition:\n",
    "list_name = [12, 23, 's', 'Egozi', 3.14]"
   ]
  },
  {
   "cell_type": "markdown",
   "metadata": {},
   "source": [
    "צור רשימה עם 10 איברים"
   ]
  },
  {
   "cell_type": "code",
   "execution_count": 4,
   "metadata": {},
   "outputs": [
    {
     "data": {
      "text/plain": [
       "(18, 15)"
      ]
     },
     "execution_count": 4,
     "metadata": {},
     "output_type": "execute_result"
    }
   ],
   "source": [
    "# code here:\n",
    "\n",
    "f=[3,6,9,12,15,18,21,24,27,30]\n",
    "f[5],f[4]"
   ]
  },
  {
   "cell_type": "code",
   "execution_count": 5,
   "metadata": {},
   "outputs": [
    {
     "ename": "SyntaxError",
     "evalue": "invalid syntax (<ipython-input-5-ccbdd966366c>, line 1)",
     "output_type": "error",
     "traceback": [
      "\u001b[1;36m  File \u001b[1;32m\"<ipython-input-5-ccbdd966366c>\"\u001b[1;36m, line \u001b[1;32m1\u001b[0m\n\u001b[1;33m    for x in range (9)\u001b[0m\n\u001b[1;37m                      ^\u001b[0m\n\u001b[1;31mSyntaxError\u001b[0m\u001b[1;31m:\u001b[0m invalid syntax\n"
     ]
    }
   ],
   "source": [
    "for x in range (9)"
   ]
  },
  {
   "cell_type": "markdown",
   "metadata": {},
   "source": [
    "\n",
    "מהרשימה שיצרת ,צור רשימה חדשה שמכילה כל איבר שני מהרשימה הראשונה:"
   ]
  },
  {
   "cell_type": "code",
   "execution_count": 6,
   "metadata": {},
   "outputs": [
    {
     "name": "stdout",
     "output_type": "stream",
     "text": [
      "[3, 9, 15, 21, 27]\n"
     ]
    }
   ],
   "source": [
    "r=[f[0],f[2],f[4],f[6],f[8]]\n",
    "print r"
   ]
  },
  {
   "cell_type": "code",
   "execution_count": 7,
   "metadata": {},
   "outputs": [
    {
     "ename": "NameError",
     "evalue": "name 'a' is not defined",
     "output_type": "error",
     "traceback": [
      "\u001b[1;31m---------------------------------------------------------------------------\u001b[0m",
      "\u001b[1;31mNameError\u001b[0m                                 Traceback (most recent call last)",
      "\u001b[1;32m<ipython-input-7-60b725f10c9c>\u001b[0m in \u001b[0;36m<module>\u001b[1;34m()\u001b[0m\n\u001b[1;32m----> 1\u001b[1;33m \u001b[0ma\u001b[0m\u001b[1;33m\u001b[0m\u001b[0m\n\u001b[0m",
      "\u001b[1;31mNameError\u001b[0m: name 'a' is not defined"
     ]
    }
   ],
   "source": [
    "a"
   ]
  },
  {
   "cell_type": "code",
   "execution_count": 8,
   "metadata": {},
   "outputs": [
    {
     "ename": "NameError",
     "evalue": "name 'a' is not defined",
     "output_type": "error",
     "traceback": [
      "\u001b[1;31m---------------------------------------------------------------------------\u001b[0m",
      "\u001b[1;31mNameError\u001b[0m                                 Traceback (most recent call last)",
      "\u001b[1;32m<ipython-input-8-5594523312e6>\u001b[0m in \u001b[0;36m<module>\u001b[1;34m()\u001b[0m\n\u001b[0;32m      1\u001b[0m \u001b[1;31m# code here\u001b[0m\u001b[1;33m\u001b[0m\u001b[1;33m\u001b[0m\u001b[0m\n\u001b[1;32m----> 2\u001b[1;33m \u001b[0ma\u001b[0m\u001b[1;33m[\u001b[0m\u001b[1;36m0\u001b[0m\u001b[1;33m,\u001b[0m\u001b[1;36m2\u001b[0m\u001b[1;33m,\u001b[0m\u001b[1;36m4\u001b[0m\u001b[1;33m,\u001b[0m\u001b[1;36m6\u001b[0m\u001b[1;33m,\u001b[0m\u001b[1;36m8\u001b[0m\u001b[1;33m]\u001b[0m\u001b[1;33m\u001b[0m\u001b[0m\n\u001b[0m",
      "\u001b[1;31mNameError\u001b[0m: name 'a' is not defined"
     ]
    }
   ],
   "source": [
    "# code here\n",
    "a[0,2,4,6,8]"
   ]
  },
  {
   "cell_type": "markdown",
   "metadata": {},
   "source": [
    "צור רשימה שלישית שמכילה כל איבר שלישי מהרשימה הראשונה, מסודרים מהסוף להתחלה"
   ]
  },
  {
   "cell_type": "code",
   "execution_count": 9,
   "metadata": {},
   "outputs": [
    {
     "name": "stdout",
     "output_type": "stream",
     "text": [
      "[30, 21, 12, 3]\n"
     ]
    }
   ],
   "source": [
    "# code here\n",
    "g=[f[9],f[6],f[3],f[0]]\n",
    "print g"
   ]
  },
  {
   "cell_type": "markdown",
   "metadata": {},
   "source": [
    "# Dictionary\n",
    "\n",
    "*Unordered* list of key:value pairs  \n",
    "if d is a dictionary:  \n",
    "d.keys() -> list of all keys  \n",
    "d.values() -> list of all values"
   ]
  },
  {
   "cell_type": "code",
   "execution_count": 10,
   "metadata": {
    "collapsed": true
   },
   "outputs": [],
   "source": [
    "# dict definition:\n",
    "dict_name = {'Sunday': 1, 'Monday': 2, 'July': 26, 'Arbel': 98, 'Banan':14}"
   ]
  },
  {
   "cell_type": "code",
   "execution_count": 11,
   "metadata": {},
   "outputs": [
    {
     "data": {
      "text/plain": [
       "{'Arbel': 98, 'Banan': 14, 'July': 26, 'Monday': 2, 'Sunday': 1}"
      ]
     },
     "execution_count": 11,
     "metadata": {},
     "output_type": "execute_result"
    }
   ],
   "source": [
    "dict_name"
   ]
  },
  {
   "cell_type": "markdown",
   "metadata": {},
   "source": [
    "צור מילון עם חמישה איברים"
   ]
  },
  {
   "cell_type": "code",
   "execution_count": null,
   "metadata": {
    "collapsed": true
   },
   "outputs": [],
   "source": []
  },
  {
   "cell_type": "code",
   "execution_count": 12,
   "metadata": {},
   "outputs": [
    {
     "name": "stdout",
     "output_type": "stream",
     "text": [
      "{'Jorden': 23, 'egoziII': 18, 'Brayent': 24, 'Curry': 30, 'Duncic': 77}\n"
     ]
    }
   ],
   "source": [
    "# code here:\n",
    "nu = {'Brayent': 24,'Jorden': 23,'Curry': 30,'Duncic': 77,'egoziII': 18}\n",
    "print nu"
   ]
  },
  {
   "cell_type": "code",
   "execution_count": 13,
   "metadata": {},
   "outputs": [
    {
     "name": "stdout",
     "output_type": "stream",
     "text": [
      "['Jorden', 'egoziII', 'Brayent', 'Curry', 'Duncic']\n"
     ]
    }
   ],
   "source": [
    "w=nu.keys()\n",
    "print w"
   ]
  },
  {
   "cell_type": "code",
   "execution_count": 14,
   "metadata": {},
   "outputs": [
    {
     "name": "stdout",
     "output_type": "stream",
     "text": [
      "[23, 18, 24, 30, 77]\n"
     ]
    }
   ],
   "source": [
    "h=nu.values()\n",
    "print h"
   ]
  },
  {
   "cell_type": "code",
   "execution_count": 15,
   "metadata": {},
   "outputs": [
    {
     "ename": "SyntaxError",
     "evalue": "invalid syntax (<ipython-input-15-46b5bb766793>, line 1)",
     "output_type": "error",
     "traceback": [
      "\u001b[1;36m  File \u001b[1;32m\"<ipython-input-15-46b5bb766793>\"\u001b[1;36m, line \u001b[1;32m1\u001b[0m\n\u001b[1;33m    print {w[2]:h[2],w[3],h[3],w[4],h[4],w[1],h[1],w[0],h[0]\u001b[0m\n\u001b[1;37m                         ^\u001b[0m\n\u001b[1;31mSyntaxError\u001b[0m\u001b[1;31m:\u001b[0m invalid syntax\n"
     ]
    }
   ],
   "source": [
    "print {w[2]:h[2],w[3],h[3],w[4],h[4],w[1],h[1],w[0],h[0]"
   ]
  },
  {
   "cell_type": "code",
   "execution_count": 16,
   "metadata": {},
   "outputs": [
    {
     "name": "stdout",
     "output_type": "stream",
     "text": [
      "['Jorden', 'egoziII', 'Brayent', 'Curry', 'Duncic']\n"
     ]
    }
   ],
   "source": [
    "print w"
   ]
  },
  {
   "cell_type": "markdown",
   "metadata": {},
   "source": [
    "הדפס את המילון על פי סדר האלף בית של המפתחות:"
   ]
  },
  {
   "cell_type": "code",
   "execution_count": 17,
   "metadata": {},
   "outputs": [
    {
     "name": "stdout",
     "output_type": "stream",
     "text": [
      "23\n",
      "24\n"
     ]
    }
   ],
   "source": [
    "print nu[w[0]]\n",
    "print nu[w[2]]"
   ]
  },
  {
   "cell_type": "code",
   "execution_count": 18,
   "metadata": {},
   "outputs": [
    {
     "ename": "NameError",
     "evalue": "name 'keys' is not defined",
     "output_type": "error",
     "traceback": [
      "\u001b[1;31m---------------------------------------------------------------------------\u001b[0m",
      "\u001b[1;31mNameError\u001b[0m                                 Traceback (most recent call last)",
      "\u001b[1;32m<ipython-input-18-8500e5d182f2>\u001b[0m in \u001b[0;36m<module>\u001b[1;34m()\u001b[0m\n\u001b[0;32m      1\u001b[0m \u001b[1;31m# code here (use print())\u001b[0m\u001b[1;33m\u001b[0m\u001b[1;33m\u001b[0m\u001b[0m\n\u001b[1;32m----> 2\u001b[1;33m \u001b[0mkeys\u001b[0m\u001b[1;33m(\u001b[0m\u001b[1;33m)\u001b[0m\u001b[1;33m\u001b[0m\u001b[0m\n\u001b[0m",
      "\u001b[1;31mNameError\u001b[0m: name 'keys' is not defined"
     ]
    }
   ],
   "source": [
    "# code here (use print())\n",
    "keys()"
   ]
  },
  {
   "cell_type": "markdown",
   "metadata": {},
   "source": [
    "# NBA "
   ]
  },
  {
   "cell_type": "code",
   "execution_count": 19,
   "metadata": {},
   "outputs": [
    {
     "name": "stdout",
     "output_type": "stream",
     "text": [
      "-91\n"
     ]
    }
   ],
   "source": [
    "from datetime import date\n",
    "import datetime\n",
    "\n",
    "d0 = date(2019, 1, 15)\n",
    "d1 = date(2018, 10, 16)\n",
    "delta = d1 - d0\n",
    "print delta.days"
   ]
  },
  {
   "cell_type": "code",
   "execution_count": 20,
   "metadata": {},
   "outputs": [
    {
     "name": "stdout",
     "output_type": "stream",
     "text": [
      "2018-11-05\n"
     ]
    }
   ],
   "source": [
    "today = date.today()\n",
    "delta = datetime.timedelta(days=71)\n",
    "new_date = today - delta\n",
    "print new_date"
   ]
  },
  {
   "cell_type": "code",
   "execution_count": 27,
   "metadata": {},
   "outputs": [
    {
     "ename": "TypeError",
     "evalue": "len() takes exactly one argument (0 given)",
     "output_type": "error",
     "traceback": [
      "\u001b[1;31m---------------------------------------------------------------------------\u001b[0m",
      "\u001b[1;31mTypeError\u001b[0m                                 Traceback (most recent call last)",
      "\u001b[1;32m<ipython-input-27-ad3aa7f052e9>\u001b[0m in \u001b[0;36m<module>\u001b[1;34m()\u001b[0m\n\u001b[1;32m----> 1\u001b[1;33m \u001b[0msb\u001b[0m \u001b[1;33m=\u001b[0m \u001b[0mScoreboard\u001b[0m\u001b[1;33m(\u001b[0m\u001b[0moffset\u001b[0m\u001b[1;33m=\u001b[0m\u001b[1;33m-\u001b[0m\u001b[0mlen\u001b[0m\u001b[1;33m(\u001b[0m\u001b[1;33m)\u001b[0m\u001b[1;33m)\u001b[0m\u001b[1;33m\u001b[0m\u001b[0m\n\u001b[0m\u001b[0;32m      2\u001b[0m \u001b[1;32mprint\u001b[0m \u001b[0msb\u001b[0m\u001b[1;33m\u001b[0m\u001b[0m\n",
      "\u001b[1;31mTypeError\u001b[0m: len() takes exactly one argument (0 given)"
     ]
    }
   ],
   "source": [
    "sb = Scoreboard(offset=-len())\n",
    "print sb"
   ]
  },
  {
   "cell_type": "markdown",
   "metadata": {},
   "source": [
    "מה הפעולות של האובייקט?    \n",
    "איזה אינפורמציה מכיל האובייקט?"
   ]
  },
  {
   "cell_type": "code",
   "execution_count": 22,
   "metadata": {},
   "outputs": [
    {
     "ename": "NameError",
     "evalue": "name 'sb' is not defined",
     "output_type": "error",
     "traceback": [
      "\u001b[1;31m---------------------------------------------------------------------------\u001b[0m",
      "\u001b[1;31mNameError\u001b[0m                                 Traceback (most recent call last)",
      "\u001b[1;32m<ipython-input-22-79285de0f2b1>\u001b[0m in \u001b[0;36m<module>\u001b[1;34m()\u001b[0m\n\u001b[1;32m----> 1\u001b[1;33m \u001b[0mscores\u001b[0m \u001b[1;33m=\u001b[0m \u001b[0msb\u001b[0m\u001b[1;33m.\u001b[0m\u001b[0mline_score\u001b[0m\u001b[1;33m(\u001b[0m\u001b[1;33m)\u001b[0m\u001b[1;33m\u001b[0m\u001b[0m\n\u001b[0m",
      "\u001b[1;31mNameError\u001b[0m: name 'sb' is not defined"
     ]
    }
   ],
   "source": [
    "scores = sb.line_score()"
   ]
  },
  {
   "cell_type": "code",
   "execution_count": 23,
   "metadata": {},
   "outputs": [
    {
     "name": "stdout",
     "output_type": "stream",
     "text": [
      "0\n",
      "1\n",
      "2\n",
      "3\n",
      "4\n"
     ]
    }
   ],
   "source": [
    "L = range(5)\n",
    "for i in L:\n",
    "    print i"
   ]
  },
  {
   "cell_type": "code",
   "execution_count": 24,
   "metadata": {},
   "outputs": [
    {
     "data": {
      "text/plain": [
       "[0, 1, 2, 3, 4]"
      ]
     },
     "execution_count": 24,
     "metadata": {},
     "output_type": "execute_result"
    }
   ],
   "source": [
    "range(5)"
   ]
  },
  {
   "cell_type": "code",
   "execution_count": 25,
   "metadata": {
    "scrolled": true
   },
   "outputs": [
    {
     "ename": "NameError",
     "evalue": "name 'scores' is not defined",
     "output_type": "error",
     "traceback": [
      "\u001b[1;31m---------------------------------------------------------------------------\u001b[0m",
      "\u001b[1;31mNameError\u001b[0m                                 Traceback (most recent call last)",
      "\u001b[1;32m<ipython-input-25-24b56ba312f3>\u001b[0m in \u001b[0;36m<module>\u001b[1;34m()\u001b[0m\n\u001b[0;32m      3\u001b[0m \u001b[1;33m\u001b[0m\u001b[0m\n\u001b[0;32m      4\u001b[0m \u001b[0mscore_table\u001b[0m \u001b[1;33m=\u001b[0m \u001b[1;33m{\u001b[0m\u001b[1;33m}\u001b[0m\u001b[1;33m\u001b[0m\u001b[0m\n\u001b[1;32m----> 5\u001b[1;33m \u001b[1;32mfor\u001b[0m \u001b[0mscore\u001b[0m \u001b[1;32min\u001b[0m \u001b[0mscores\u001b[0m\u001b[1;33m:\u001b[0m\u001b[1;33m\u001b[0m\u001b[0m\n\u001b[0m\u001b[0;32m      6\u001b[0m     \u001b[0mscore_table\u001b[0m\u001b[1;33m.\u001b[0m\u001b[0mappend\u001b[0m\u001b[1;33m(\u001b[0m\u001b[0mscore\u001b[0m\u001b[1;33m[\u001b[0m\u001b[1;34m'TEAM_CITY_NAME'\u001b[0m\u001b[1;33m]\u001b[0m\u001b[1;33m,\u001b[0m \u001b[0mscore\u001b[0m\u001b[1;33m[\u001b[0m\u001b[1;34m'TEAM_ABBREVIATION'\u001b[0m\u001b[1;33m]\u001b[0m\u001b[1;33m)\u001b[0m\u001b[1;33m\u001b[0m\u001b[0m\n\u001b[0;32m      7\u001b[0m \u001b[1;33m\u001b[0m\u001b[0m\n",
      "\u001b[1;31mNameError\u001b[0m: name 'scores' is not defined"
     ]
    }
   ],
   "source": [
    "# for i in range(len(scores)):\n",
    "#     print scores[i]['TEAM_CITY_NAME'], scores[i]['TEAM_ABBREVIATION'], scores[i]['TEAM_WINS_LOSSES']\n",
    "\n",
    "score_table = {}\n",
    "for score in scores:\n",
    "    score_table.append(score['TEAM_CITY_NAME'], score['TEAM_ABBREVIATION'])\n",
    "    \n",
    "display(pd.DataFrame(score_table))"
   ]
  },
  {
   "cell_type": "markdown",
   "metadata": {},
   "source": [
    "  מה מכיל \n",
    "scores  \n",
    "?  \n",
    "איך הוא מסודר?"
   ]
  },
  {
   "cell_type": "code",
   "execution_count": 26,
   "metadata": {},
   "outputs": [
    {
     "ename": "NameError",
     "evalue": "name 'scores' is not defined",
     "output_type": "error",
     "traceback": [
      "\u001b[1;31m---------------------------------------------------------------------------\u001b[0m",
      "\u001b[1;31mNameError\u001b[0m                                 Traceback (most recent call last)",
      "\u001b[1;32m<ipython-input-26-70fda32430eb>\u001b[0m in \u001b[0;36m<module>\u001b[1;34m()\u001b[0m\n\u001b[0;32m      1\u001b[0m \u001b[0mGamesToday\u001b[0m\u001b[1;33m=\u001b[0m\u001b[1;33m[\u001b[0m\u001b[1;33m]\u001b[0m\u001b[1;33m\u001b[0m\u001b[0m\n\u001b[1;32m----> 2\u001b[1;33m \u001b[1;32mfor\u001b[0m \u001b[0mi\u001b[0m \u001b[1;32min\u001b[0m \u001b[0mrange\u001b[0m\u001b[1;33m(\u001b[0m\u001b[1;36m0\u001b[0m\u001b[1;33m,\u001b[0m\u001b[0mlen\u001b[0m\u001b[1;33m(\u001b[0m\u001b[0mscores\u001b[0m\u001b[1;33m)\u001b[0m\u001b[1;33m,\u001b[0m\u001b[1;36m2\u001b[0m\u001b[1;33m)\u001b[0m\u001b[1;33m:\u001b[0m\u001b[1;33m\u001b[0m\u001b[0m\n\u001b[0m\u001b[0;32m      3\u001b[0m     \u001b[1;32mif\u001b[0m \u001b[0mscores\u001b[0m\u001b[1;33m[\u001b[0m\u001b[0mi\u001b[0m\u001b[1;33m]\u001b[0m\u001b[1;33m[\u001b[0m\u001b[1;34m'PTS_OT1'\u001b[0m\u001b[1;33m]\u001b[0m\u001b[1;33m==\u001b[0m\u001b[1;36m0\u001b[0m\u001b[1;33m:\u001b[0m\u001b[1;33m\u001b[0m\u001b[0m\n\u001b[0;32m      4\u001b[0m         game = {scores[i]['TEAM_CITY_NAME']: [scores[i]['PTS'], scores[i]['PTS_QTR1'], scores[i]['PTS_QTR2'], scores[i]['PTS_QTR3'], scores[i]['PTS_QTR4']],\n\u001b[0;32m      5\u001b[0m                 scores[i+1]['TEAM_CITY_NAME']: [scores[i+1]['PTS'], scores[i+1]['PTS_QTR1'], scores[i+1]['PTS_QTR2'], scores[i+1]['PTS_QTR3'], scores[i+1]['PTS_QTR4']]}\n",
      "\u001b[1;31mNameError\u001b[0m: name 'scores' is not defined"
     ]
    }
   ],
   "source": [
    "GamesToday=[]\n",
    "for i in range(0,len(scores),2):\n",
    "    if scores[i]['PTS_OT1']==0:\n",
    "        game = {scores[i]['TEAM_CITY_NAME']: [scores[i]['PTS'], scores[i]['PTS_QTR1'], scores[i]['PTS_QTR2'], scores[i]['PTS_QTR3'], scores[i]['PTS_QTR4']],\n",
    "                scores[i+1]['TEAM_CITY_NAME']: [scores[i+1]['PTS'], scores[i+1]['PTS_QTR1'], scores[i+1]['PTS_QTR2'], scores[i+1]['PTS_QTR3'], scores[i+1]['PTS_QTR4']]}\n",
    "        GamesToday.append(game)\n",
    "        display(pd.DataFrame.from_dict(game, orient='index', columns=['PTS','QTR1','QTR2','QTR3','QTR4']))\n",
    "    else:\n",
    "        if scores[i]['PTS_OT2']==0:\n",
    "            game = {scores[i]['TEAM_CITY_NAME']: [scores[i]['PTS'], scores[i]['PTS_QTR1'], scores[i]['PTS_QTR2'], scores[i]['PTS_QTR3'], scores[i]['PTS_QTR4'], scores[i]['PTS_OT1']],\n",
    "                    scores[i+1]['TEAM_CITY_NAME']: [scores[i+1]['PTS'], scores[i+1]['PTS_QTR1'], scores[i+1]['PTS_QTR2'], scores[i+1]['PTS_QTR3'], scores[i+1]['PTS_QTR4'], scores[i+1]['PTS_OT1']]}\n",
    "            GamesToday.append(game)\n",
    "            display(pd.DataFrame.from_dict(game, orient='index', columns=['PTS','QTR1','QTR2','QTR3','QTR4','OT1']))\n",
    "        else:\n",
    "            if scores[i]['PTS_OT3']==0:\n",
    "                game = {scores[i]['TEAM_CITY_NAME']: [scores[i]['PTS'], scores[i]['PTS_QTR1'], scores[i]['PTS_QTR2'], scores[i]['PTS_QTR3'], scores[i]['PTS_QTR4'], scores[i]['PTS_OT1'], scores[i]['PTS_OT2']],\n",
    "                        scores[i+1]['TEAM_CITY_NAME']: [scores[i+1]['PTS'], scores[i+1]['PTS_QTR1'], scores[i+1]['PTS_QTR2'], scores[i+1]['PTS_QTR3'], scores[i+1]['PTS_QTR4'], scores[i+1]['PTS_OT1'], scores[i+1]['PTS_OT2']]}\n",
    "                GamesToday.append(game)\n",
    "                display(pd.DataFrame.from_dict(game, orient='index', columns=['PTS','QTR1','QTR2','QTR3','QTR4','OT1','OT2']))\n",
    "            else:\n",
    "                game = {scores[i]['TEAM_CITY_NAME']: [scores[i]['PTS'], scores[i]['PTS_QTR1'], scores[i]['PTS_QTR2'], scores[i]['PTS_QTR3'], scores[i]['PTS_QTR4'], scores[i]['PTS_OT1'], scores[i]['PTS_OT2'], scores[i]['PTS_OT3']],\n",
    "                        scores[i+1]['TEAM_CITY_NAME']: [scores[i+1]['PTS'], scores[i+1]['PTS_QTR1'], scores[i+1]['PTS_QTR2'], scores[i+1]['PTS_QTR3'], scores[i+1]['PTS_QTR4'], scores[i+1]['PTS_OT1'], scores[i+1]['PTS_OT2'], scores[i]['PTS_OT3']]}\n",
    "                GamesToday.append(game)\n",
    "                display(pd.DataFrame.from_dict(game, orient='index', columns=['PTS','QTR1','QTR2','QTR3','QTR4','OT1','OT2','OT3']))\n",
    "    "
   ]
  },
  {
   "cell_type": "markdown",
   "metadata": {},
   "source": [
    "# משימה:  \n",
    "המטרה לייצר מהנתונים רשימה של התוצאות של המשחקים מתוך  \n",
    "scores.  \n",
    "הרשימה צריכה להכיל מילון לכל משחק מהצורה:  \n",
    "[..., {team1: score1, team2: score2}, ...]\n"
   ]
  },
  {
   "cell_type": "code",
   "execution_count": 124,
   "metadata": {
    "collapsed": true
   },
   "outputs": [],
   "source": [
    "# code here"
   ]
  },
  {
   "cell_type": "markdown",
   "metadata": {},
   "source": [
    "# For and if"
   ]
  },
  {
   "cell_type": "code",
   "execution_count": 127,
   "metadata": {
    "collapsed": true
   },
   "outputs": [],
   "source": [
    "# and, or, not\n",
    "if a > 10 and a < 15:\n",
    "    print 'a is between 10 and 15'"
   ]
  },
  {
   "cell_type": "code",
   "execution_count": 192,
   "metadata": {},
   "outputs": [
    {
     "name": "stdout",
     "output_type": "stream",
     "text": [
      "Detroit win New York lose \n",
      "Atlanta win Miami lose \n",
      "Toronto win Memphis lose \n",
      "Denver win Los Angeles lose \n",
      "Indiana win Phoenix lose \n"
     ]
    }
   ],
   "source": [
    "for i in range(0,len(scores),2):\n",
    "    t1g1=scores[i]['PTS']\n",
    "    t2g1=scores[i+1]['PTS']\n",
    "\n",
    "    if t1g1>t2g1:\n",
    "        print scores[i]['TEAM_CITY_NAME'] + ' win '  +  scores[i+1]['TEAM_CITY_NAME']  +  ' lose '\n",
    "    else:\n",
    "        print scores[i+1]['TEAM_CITY_NAME'] + ' win ' + scores[i]['TEAM_CITY_NAME']  +  ' lose '\n",
    " "
   ]
  },
  {
   "cell_type": "code",
   "execution_count": null,
   "metadata": {
    "collapsed": true
   },
   "outputs": [],
   "source": [
    "NBA_all_games = {}\n",
    "for offset in range(90):\n",
    "    sb = Scoreboard(offset=-offset)\n",
    "    scores = sb.line_score()\n",
    "    \n",
    "    for i in range(0,len(scores),2):\n",
    "        team1=[scores[i]['TEAM_CITY_NAME'],scores[i]['PTS']]\n",
    "        team2=[scores[i+1]['TEAM_CITY_NAME'],scores[i+1]['PTS']]\n",
    "\n",
    "\n",
    "        if scores[i]['TEAM_CITY_NAME'] in NBA_all_games.keys():\n",
    "            NBA_all_games[scores[i]['TEAM_CITY_NAME']].append([scores[i]['PTS'],scores[i+1]['PTS']])\n",
    "        else: \n",
    "            NBA_all_games[scores[i]['TEAM_CITY_NAME']]=[[scores[i]['PTS'],scores[i+1]['PTS']]]\n",
    "\n",
    "\n",
    "        if scores[i+1]['TEAM_CITY_NAME'] in NBA_all_games.keys():\n",
    "            NBA_all_games[scores[i+1]['TEAM_CITY_NAME']].append([scores[i+1]['PTS'],scores[i]['PTS']])\n",
    "        else: \n",
    "            NBA_all_games[scores[i+1]['TEAM_CITY_NAME']]=[[scores[i+1]['PTS'],scores[i]['PTS']]]\n",
    "\n"
   ]
  },
  {
   "cell_type": "code",
   "execution_count": null,
   "metadata": {},
   "outputs": [],
   "source": [
    "print NBA_all_games"
   ]
  },
  {
   "cell_type": "code",
   "execution_count": 243,
   "metadata": {},
   "outputs": [
    {
     "name": "stdout",
     "output_type": "stream",
     "text": [
      "{u'TEAM_CITY_NAME': u'Oklahoma City', u'GAME_DATE_EST': u'2018-11-07T00:00:00', u'PTS_OT10': 0, u'TEAM_ID': 1610612760, u'REB': 44, u'TEAM_WINS_LOSSES': u'6-4', u'GAME_SEQUENCE': 1, u'TEAM_ABBREVIATION': u'OKC', u'PTS_OT8': 0, u'PTS_OT9': 0, u'PTS_OT2': 0, u'PTS_OT3': 0, u'PTS_OT1': 0, u'PTS': 95, u'PTS_OT7': 0, u'PTS_OT4': 0, u'PTS_OT5': 0, u'TOV': 12, u'GAME_ID': u'0021800153', u'FT_PCT': 0.692, u'PTS_OT6': 0, u'FG_PCT': 0.417, u'AST': 10, u'FG3_PCT': 0.259, u'PTS_QTR3': 23, u'PTS_QTR2': 25, u'PTS_QTR1': 23, u'PTS_QTR4': 24}\n"
     ]
    }
   ],
   "source": [
    "print scores[0]"
   ]
  },
  {
   "cell_type": "code",
   "execution_count": 247,
   "metadata": {},
   "outputs": [
    {
     "data": {
      "text/plain": [
       "[[u'Oklahoma City', u'OKC', u'6-4'],\n",
       " [u'Cleveland', u'CLE', u'1-10'],\n",
       " [u'Detroit', u'DET', u'5-5'],\n",
       " [u'Orlando', u'ORL', u'4-7'],\n",
       " [u'New York', u'NYK', u'4-8'],\n",
       " [u'Atlanta', u'ATL', u'3-8'],\n",
       " [u'San Antonio', u'SAS', u'6-4'],\n",
       " [u'Miami', u'MIA', u'5-5'],\n",
       " [u'Philadelphia', u'PHI', u'7-5'],\n",
       " [u'Indiana', u'IND', u'7-5'],\n",
       " [u'Denver', u'DEN', u'9-2'],\n",
       " [u'Memphis', u'MEM', u'6-4'],\n",
       " [u'Chicago', u'CHI', u'3-9'],\n",
       " [u'New Orleans', u'NOP', u'5-6'],\n",
       " [u'Dallas', u'DAL', u'3-8'],\n",
       " [u'Utah', u'UTA', u'5-6'],\n",
       " [u'Toronto', u'TOR', u'11-1'],\n",
       " [u'Sacramento', u'SAC', u'6-5'],\n",
       " [u'Minnesota', u'MIN', u'4-8'],\n",
       " [u'Los Angeles', u'LAL', u'5-6']]"
      ]
     },
     "execution_count": 247,
     "metadata": {},
     "output_type": "execute_result"
    }
   ],
   "source": [
    "score_table"
   ]
  },
  {
   "cell_type": "code",
   "execution_count": 15,
   "metadata": {},
   "outputs": [
    {
     "ename": "TypeError",
     "evalue": "unsupported operand type(s) for +: 'int' and 'NoneType'",
     "output_type": "error",
     "traceback": [
      "\u001b[1;31m---------------------------------------------------------------------------\u001b[0m",
      "\u001b[1;31mTypeError\u001b[0m                                 Traceback (most recent call last)",
      "\u001b[1;32m<ipython-input-15-41b615a3eeba>\u001b[0m in \u001b[0;36m<module>\u001b[1;34m()\u001b[0m\n\u001b[0;32m      8\u001b[0m \u001b[1;33m\u001b[0m\u001b[0m\n\u001b[0;32m      9\u001b[0m     \u001b[1;32mfor\u001b[0m \u001b[0mgame\u001b[0m \u001b[1;32min\u001b[0m \u001b[0mgames\u001b[0m\u001b[1;33m:\u001b[0m\u001b[1;33m\u001b[0m\u001b[0m\n\u001b[1;32m---> 10\u001b[1;33m         \u001b[0mstanding_table\u001b[0m\u001b[1;33m[\u001b[0m\u001b[0mteam\u001b[0m\u001b[1;33m]\u001b[0m\u001b[1;33m[\u001b[0m\u001b[1;34m'pts+'\u001b[0m\u001b[1;33m]\u001b[0m \u001b[1;33m=\u001b[0m \u001b[0mstanding_table\u001b[0m\u001b[1;33m[\u001b[0m\u001b[0mteam\u001b[0m\u001b[1;33m]\u001b[0m\u001b[1;33m[\u001b[0m\u001b[1;34m'pts+'\u001b[0m\u001b[1;33m]\u001b[0m \u001b[1;33m+\u001b[0m \u001b[0mgame\u001b[0m\u001b[1;33m[\u001b[0m\u001b[1;36m0\u001b[0m\u001b[1;33m]\u001b[0m\u001b[1;33m\u001b[0m\u001b[0m\n\u001b[0m\u001b[0;32m     11\u001b[0m         \u001b[0mstanding_table\u001b[0m\u001b[1;33m[\u001b[0m\u001b[0mteam\u001b[0m\u001b[1;33m]\u001b[0m\u001b[1;33m[\u001b[0m\u001b[1;34m'pts-'\u001b[0m\u001b[1;33m]\u001b[0m \u001b[1;33m=\u001b[0m \u001b[0mstanding_table\u001b[0m\u001b[1;33m[\u001b[0m\u001b[0mteam\u001b[0m\u001b[1;33m]\u001b[0m\u001b[1;33m[\u001b[0m\u001b[1;34m'pts-'\u001b[0m\u001b[1;33m]\u001b[0m \u001b[1;33m+\u001b[0m \u001b[0mgame\u001b[0m\u001b[1;33m[\u001b[0m\u001b[1;36m1\u001b[0m\u001b[1;33m]\u001b[0m\u001b[1;33m\u001b[0m\u001b[0m\n\u001b[0;32m     12\u001b[0m \u001b[1;33m\u001b[0m\u001b[0m\n",
      "\u001b[1;31mTypeError\u001b[0m: unsupported operand type(s) for +: 'int' and 'NoneType'"
     ]
    }
   ],
   "source": [
    "NBA_team = NBA_all_games.keys()\n",
    "standing_table = {}\n",
    "\n",
    "for team in NBA_all_games.keys(): \n",
    "    \n",
    "    standing_table[team]  = {'G': 0, 'W': 0, 'L':0, 'pts+':0, 'pts-':0, 'W_%':0}\n",
    "    games = NBA_all_games[team]\n",
    "\n",
    "    for game in games:\n",
    "        standing_table[team]['G'] = standing_table[team]['G'] + 1\n",
    "        standing_table[team]['pts+'] = standing_table[team]['pts+'] + game[0]\n",
    "        standing_table[team]['pts-'] = standing_table[team]['pts-'] + game[1]\n",
    "        \n",
    "        if game[0] > game[1] :\n",
    "            standing_table[team]['W'] = standing_table[team]['W'] + 1\n",
    "        else:\n",
    "            standing_table[team]['L'] = standing_table[team]['L'] + 1\n",
    "    standing_table[team]['W_%'] = standing_table[team]['G'] / standing_table[team]['W']\n",
    "            "
   ]
  },
  {
   "cell_type": "code",
   "execution_count": 23,
   "metadata": {},
   "outputs": [
    {
     "name": "stdout",
     "output_type": "stream",
     "text": [
      "None\n"
     ]
    }
   ],
   "source": [
    "print game[0]"
   ]
  },
  {
   "cell_type": "code",
   "execution_count": 268,
   "metadata": {},
   "outputs": [
    {
     "data": {
      "text/html": [
       "<div>\n",
       "<style scoped>\n",
       "    .dataframe tbody tr th:only-of-type {\n",
       "        vertical-align: middle;\n",
       "    }\n",
       "\n",
       "    .dataframe tbody tr th {\n",
       "        vertical-align: top;\n",
       "    }\n",
       "\n",
       "    .dataframe thead th {\n",
       "        text-align: right;\n",
       "    }\n",
       "</style>\n",
       "<table border=\"1\" class=\"dataframe\">\n",
       "  <thead>\n",
       "    <tr style=\"text-align: right;\">\n",
       "      <th></th>\n",
       "      <th>W</th>\n",
       "      <th>L</th>\n",
       "      <th>pts+</th>\n",
       "      <th>pts-</th>\n",
       "    </tr>\n",
       "  </thead>\n",
       "  <tbody>\n",
       "    <tr>\n",
       "      <th>Atlanta</th>\n",
       "      <td>7</td>\n",
       "      <td>18</td>\n",
       "      <td>2705</td>\n",
       "      <td>2925</td>\n",
       "    </tr>\n",
       "    <tr>\n",
       "      <th>Boston</th>\n",
       "      <td>15</td>\n",
       "      <td>10</td>\n",
       "      <td>2869</td>\n",
       "      <td>2673</td>\n",
       "    </tr>\n",
       "    <tr>\n",
       "      <th>Brooklyn</th>\n",
       "      <td>13</td>\n",
       "      <td>14</td>\n",
       "      <td>3023</td>\n",
       "      <td>3046</td>\n",
       "    </tr>\n",
       "    <tr>\n",
       "      <th>Charlotte</th>\n",
       "      <td>11</td>\n",
       "      <td>13</td>\n",
       "      <td>2703</td>\n",
       "      <td>2726</td>\n",
       "    </tr>\n",
       "    <tr>\n",
       "      <th>Chicago</th>\n",
       "      <td>8</td>\n",
       "      <td>18</td>\n",
       "      <td>2573</td>\n",
       "      <td>2801</td>\n",
       "    </tr>\n",
       "    <tr>\n",
       "      <th>Cleveland</th>\n",
       "      <td>7</td>\n",
       "      <td>20</td>\n",
       "      <td>2724</td>\n",
       "      <td>2947</td>\n",
       "    </tr>\n",
       "    <tr>\n",
       "      <th>Dallas</th>\n",
       "      <td>14</td>\n",
       "      <td>11</td>\n",
       "      <td>2784</td>\n",
       "      <td>2720</td>\n",
       "    </tr>\n",
       "    <tr>\n",
       "      <th>Denver</th>\n",
       "      <td>13</td>\n",
       "      <td>10</td>\n",
       "      <td>2498</td>\n",
       "      <td>2421</td>\n",
       "    </tr>\n",
       "    <tr>\n",
       "      <th>Detroit</th>\n",
       "      <td>12</td>\n",
       "      <td>13</td>\n",
       "      <td>2695</td>\n",
       "      <td>2697</td>\n",
       "    </tr>\n",
       "    <tr>\n",
       "      <th>Golden State</th>\n",
       "      <td>14</td>\n",
       "      <td>12</td>\n",
       "      <td>2911</td>\n",
       "      <td>2947</td>\n",
       "    </tr>\n",
       "    <tr>\n",
       "      <th>Houston</th>\n",
       "      <td>15</td>\n",
       "      <td>10</td>\n",
       "      <td>2785</td>\n",
       "      <td>2714</td>\n",
       "    </tr>\n",
       "    <tr>\n",
       "      <th>Indiana</th>\n",
       "      <td>17</td>\n",
       "      <td>9</td>\n",
       "      <td>2778</td>\n",
       "      <td>2634</td>\n",
       "    </tr>\n",
       "    <tr>\n",
       "      <th>LA</th>\n",
       "      <td>14</td>\n",
       "      <td>11</td>\n",
       "      <td>2907</td>\n",
       "      <td>2932</td>\n",
       "    </tr>\n",
       "    <tr>\n",
       "      <th>Los Angeles</th>\n",
       "      <td>17</td>\n",
       "      <td>9</td>\n",
       "      <td>2869</td>\n",
       "      <td>2786</td>\n",
       "    </tr>\n",
       "    <tr>\n",
       "      <th>Memphis</th>\n",
       "      <td>15</td>\n",
       "      <td>12</td>\n",
       "      <td>2737</td>\n",
       "      <td>2741</td>\n",
       "    </tr>\n",
       "    <tr>\n",
       "      <th>Miami</th>\n",
       "      <td>13</td>\n",
       "      <td>12</td>\n",
       "      <td>2606</td>\n",
       "      <td>2585</td>\n",
       "    </tr>\n",
       "    <tr>\n",
       "      <th>Milwaukee</th>\n",
       "      <td>16</td>\n",
       "      <td>8</td>\n",
       "      <td>2792</td>\n",
       "      <td>2593</td>\n",
       "    </tr>\n",
       "    <tr>\n",
       "      <th>Minnesota</th>\n",
       "      <td>13</td>\n",
       "      <td>12</td>\n",
       "      <td>2776</td>\n",
       "      <td>2698</td>\n",
       "    </tr>\n",
       "    <tr>\n",
       "      <th>New Orleans</th>\n",
       "      <td>11</td>\n",
       "      <td>16</td>\n",
       "      <td>3124</td>\n",
       "      <td>3082</td>\n",
       "    </tr>\n",
       "    <tr>\n",
       "      <th>New York</th>\n",
       "      <td>7</td>\n",
       "      <td>18</td>\n",
       "      <td>2727</td>\n",
       "      <td>2945</td>\n",
       "    </tr>\n",
       "    <tr>\n",
       "      <th>Oklahoma City</th>\n",
       "      <td>17</td>\n",
       "      <td>9</td>\n",
       "      <td>2908</td>\n",
       "      <td>2698</td>\n",
       "    </tr>\n",
       "    <tr>\n",
       "      <th>Orlando</th>\n",
       "      <td>10</td>\n",
       "      <td>14</td>\n",
       "      <td>2470</td>\n",
       "      <td>2560</td>\n",
       "    </tr>\n",
       "    <tr>\n",
       "      <th>Philadelphia</th>\n",
       "      <td>17</td>\n",
       "      <td>8</td>\n",
       "      <td>2902</td>\n",
       "      <td>2798</td>\n",
       "    </tr>\n",
       "    <tr>\n",
       "      <th>Phoenix</th>\n",
       "      <td>7</td>\n",
       "      <td>20</td>\n",
       "      <td>2891</td>\n",
       "      <td>3072</td>\n",
       "    </tr>\n",
       "    <tr>\n",
       "      <th>Portland</th>\n",
       "      <td>12</td>\n",
       "      <td>13</td>\n",
       "      <td>2704</td>\n",
       "      <td>2850</td>\n",
       "    </tr>\n",
       "    <tr>\n",
       "      <th>Sacramento</th>\n",
       "      <td>14</td>\n",
       "      <td>12</td>\n",
       "      <td>2971</td>\n",
       "      <td>3002</td>\n",
       "    </tr>\n",
       "    <tr>\n",
       "      <th>San Antonio</th>\n",
       "      <td>13</td>\n",
       "      <td>14</td>\n",
       "      <td>2977</td>\n",
       "      <td>2927</td>\n",
       "    </tr>\n",
       "    <tr>\n",
       "      <th>Toronto</th>\n",
       "      <td>17</td>\n",
       "      <td>9</td>\n",
       "      <td>2940</td>\n",
       "      <td>2790</td>\n",
       "    </tr>\n",
       "    <tr>\n",
       "      <th>Utah</th>\n",
       "      <td>13</td>\n",
       "      <td>13</td>\n",
       "      <td>2762</td>\n",
       "      <td>2714</td>\n",
       "    </tr>\n",
       "    <tr>\n",
       "      <th>Washington</th>\n",
       "      <td>11</td>\n",
       "      <td>15</td>\n",
       "      <td>2932</td>\n",
       "      <td>3019</td>\n",
       "    </tr>\n",
       "  </tbody>\n",
       "</table>\n",
       "</div>"
      ],
      "text/plain": [
       "                W   L  pts+  pts-\n",
       "Atlanta         7  18  2705  2925\n",
       "Boston         15  10  2869  2673\n",
       "Brooklyn       13  14  3023  3046\n",
       "Charlotte      11  13  2703  2726\n",
       "Chicago         8  18  2573  2801\n",
       "Cleveland       7  20  2724  2947\n",
       "Dallas         14  11  2784  2720\n",
       "Denver         13  10  2498  2421\n",
       "Detroit        12  13  2695  2697\n",
       "Golden State   14  12  2911  2947\n",
       "Houston        15  10  2785  2714\n",
       "Indiana        17   9  2778  2634\n",
       "LA             14  11  2907  2932\n",
       "Los Angeles    17   9  2869  2786\n",
       "Memphis        15  12  2737  2741\n",
       "Miami          13  12  2606  2585\n",
       "Milwaukee      16   8  2792  2593\n",
       "Minnesota      13  12  2776  2698\n",
       "New Orleans    11  16  3124  3082\n",
       "New York        7  18  2727  2945\n",
       "Oklahoma City  17   9  2908  2698\n",
       "Orlando        10  14  2470  2560\n",
       "Philadelphia   17   8  2902  2798\n",
       "Phoenix         7  20  2891  3072\n",
       "Portland       12  13  2704  2850\n",
       "Sacramento     14  12  2971  3002\n",
       "San Antonio    13  14  2977  2927\n",
       "Toronto        17   9  2940  2790\n",
       "Utah           13  13  2762  2714\n",
       "Washington     11  15  2932  3019"
      ]
     },
     "metadata": {},
     "output_type": "display_data"
    }
   ],
   "source": [
    "display(pd.DataFrame.from_dict(standing_table, orient='index', columns=['W', 'L', 'pts+', 'pts-']))"
   ]
  },
  {
   "cell_type": "code",
   "execution_count": 270,
   "metadata": {
    "collapsed": true
   },
   "outputs": [],
   "source": [
    "games\n",
    "pt_plus = []\n",
    "pt_minus = []\n",
    "for game in games:\n",
    "    pt_plus.append(game[0])\n",
    "    pt_minus.append(game[1])\n",
    "    "
   ]
  },
  {
   "cell_type": "code",
   "execution_count": 274,
   "metadata": {
    "collapsed": true
   },
   "outputs": [],
   "source": [
    "import matplotlib.pylab as plt\n",
    "%matplotlib notebook"
   ]
  },
  {
   "cell_type": "code",
   "execution_count": 276,
   "metadata": {},
   "outputs": [
    {
     "data": {
      "application/javascript": [
       "/* Put everything inside the global mpl namespace */\n",
       "window.mpl = {};\n",
       "\n",
       "\n",
       "mpl.get_websocket_type = function() {\n",
       "    if (typeof(WebSocket) !== 'undefined') {\n",
       "        return WebSocket;\n",
       "    } else if (typeof(MozWebSocket) !== 'undefined') {\n",
       "        return MozWebSocket;\n",
       "    } else {\n",
       "        alert('Your browser does not have WebSocket support.' +\n",
       "              'Please try Chrome, Safari or Firefox ≥ 6. ' +\n",
       "              'Firefox 4 and 5 are also supported but you ' +\n",
       "              'have to enable WebSockets in about:config.');\n",
       "    };\n",
       "}\n",
       "\n",
       "mpl.figure = function(figure_id, websocket, ondownload, parent_element) {\n",
       "    this.id = figure_id;\n",
       "\n",
       "    this.ws = websocket;\n",
       "\n",
       "    this.supports_binary = (this.ws.binaryType != undefined);\n",
       "\n",
       "    if (!this.supports_binary) {\n",
       "        var warnings = document.getElementById(\"mpl-warnings\");\n",
       "        if (warnings) {\n",
       "            warnings.style.display = 'block';\n",
       "            warnings.textContent = (\n",
       "                \"This browser does not support binary websocket messages. \" +\n",
       "                    \"Performance may be slow.\");\n",
       "        }\n",
       "    }\n",
       "\n",
       "    this.imageObj = new Image();\n",
       "\n",
       "    this.context = undefined;\n",
       "    this.message = undefined;\n",
       "    this.canvas = undefined;\n",
       "    this.rubberband_canvas = undefined;\n",
       "    this.rubberband_context = undefined;\n",
       "    this.format_dropdown = undefined;\n",
       "\n",
       "    this.image_mode = 'full';\n",
       "\n",
       "    this.root = $('<div/>');\n",
       "    this._root_extra_style(this.root)\n",
       "    this.root.attr('style', 'display: inline-block');\n",
       "\n",
       "    $(parent_element).append(this.root);\n",
       "\n",
       "    this._init_header(this);\n",
       "    this._init_canvas(this);\n",
       "    this._init_toolbar(this);\n",
       "\n",
       "    var fig = this;\n",
       "\n",
       "    this.waiting = false;\n",
       "\n",
       "    this.ws.onopen =  function () {\n",
       "            fig.send_message(\"supports_binary\", {value: fig.supports_binary});\n",
       "            fig.send_message(\"send_image_mode\", {});\n",
       "            if (mpl.ratio != 1) {\n",
       "                fig.send_message(\"set_dpi_ratio\", {'dpi_ratio': mpl.ratio});\n",
       "            }\n",
       "            fig.send_message(\"refresh\", {});\n",
       "        }\n",
       "\n",
       "    this.imageObj.onload = function() {\n",
       "            if (fig.image_mode == 'full') {\n",
       "                // Full images could contain transparency (where diff images\n",
       "                // almost always do), so we need to clear the canvas so that\n",
       "                // there is no ghosting.\n",
       "                fig.context.clearRect(0, 0, fig.canvas.width, fig.canvas.height);\n",
       "            }\n",
       "            fig.context.drawImage(fig.imageObj, 0, 0);\n",
       "        };\n",
       "\n",
       "    this.imageObj.onunload = function() {\n",
       "        this.ws.close();\n",
       "    }\n",
       "\n",
       "    this.ws.onmessage = this._make_on_message_function(this);\n",
       "\n",
       "    this.ondownload = ondownload;\n",
       "}\n",
       "\n",
       "mpl.figure.prototype._init_header = function() {\n",
       "    var titlebar = $(\n",
       "        '<div class=\"ui-dialog-titlebar ui-widget-header ui-corner-all ' +\n",
       "        'ui-helper-clearfix\"/>');\n",
       "    var titletext = $(\n",
       "        '<div class=\"ui-dialog-title\" style=\"width: 100%; ' +\n",
       "        'text-align: center; padding: 3px;\"/>');\n",
       "    titlebar.append(titletext)\n",
       "    this.root.append(titlebar);\n",
       "    this.header = titletext[0];\n",
       "}\n",
       "\n",
       "\n",
       "\n",
       "mpl.figure.prototype._canvas_extra_style = function(canvas_div) {\n",
       "\n",
       "}\n",
       "\n",
       "\n",
       "mpl.figure.prototype._root_extra_style = function(canvas_div) {\n",
       "\n",
       "}\n",
       "\n",
       "mpl.figure.prototype._init_canvas = function() {\n",
       "    var fig = this;\n",
       "\n",
       "    var canvas_div = $('<div/>');\n",
       "\n",
       "    canvas_div.attr('style', 'position: relative; clear: both; outline: 0');\n",
       "\n",
       "    function canvas_keyboard_event(event) {\n",
       "        return fig.key_event(event, event['data']);\n",
       "    }\n",
       "\n",
       "    canvas_div.keydown('key_press', canvas_keyboard_event);\n",
       "    canvas_div.keyup('key_release', canvas_keyboard_event);\n",
       "    this.canvas_div = canvas_div\n",
       "    this._canvas_extra_style(canvas_div)\n",
       "    this.root.append(canvas_div);\n",
       "\n",
       "    var canvas = $('<canvas/>');\n",
       "    canvas.addClass('mpl-canvas');\n",
       "    canvas.attr('style', \"left: 0; top: 0; z-index: 0; outline: 0\")\n",
       "\n",
       "    this.canvas = canvas[0];\n",
       "    this.context = canvas[0].getContext(\"2d\");\n",
       "\n",
       "    var backingStore = this.context.backingStorePixelRatio ||\n",
       "\tthis.context.webkitBackingStorePixelRatio ||\n",
       "\tthis.context.mozBackingStorePixelRatio ||\n",
       "\tthis.context.msBackingStorePixelRatio ||\n",
       "\tthis.context.oBackingStorePixelRatio ||\n",
       "\tthis.context.backingStorePixelRatio || 1;\n",
       "\n",
       "    mpl.ratio = (window.devicePixelRatio || 1) / backingStore;\n",
       "\n",
       "    var rubberband = $('<canvas/>');\n",
       "    rubberband.attr('style', \"position: absolute; left: 0; top: 0; z-index: 1;\")\n",
       "\n",
       "    var pass_mouse_events = true;\n",
       "\n",
       "    canvas_div.resizable({\n",
       "        start: function(event, ui) {\n",
       "            pass_mouse_events = false;\n",
       "        },\n",
       "        resize: function(event, ui) {\n",
       "            fig.request_resize(ui.size.width, ui.size.height);\n",
       "        },\n",
       "        stop: function(event, ui) {\n",
       "            pass_mouse_events = true;\n",
       "            fig.request_resize(ui.size.width, ui.size.height);\n",
       "        },\n",
       "    });\n",
       "\n",
       "    function mouse_event_fn(event) {\n",
       "        if (pass_mouse_events)\n",
       "            return fig.mouse_event(event, event['data']);\n",
       "    }\n",
       "\n",
       "    rubberband.mousedown('button_press', mouse_event_fn);\n",
       "    rubberband.mouseup('button_release', mouse_event_fn);\n",
       "    // Throttle sequential mouse events to 1 every 20ms.\n",
       "    rubberband.mousemove('motion_notify', mouse_event_fn);\n",
       "\n",
       "    rubberband.mouseenter('figure_enter', mouse_event_fn);\n",
       "    rubberband.mouseleave('figure_leave', mouse_event_fn);\n",
       "\n",
       "    canvas_div.on(\"wheel\", function (event) {\n",
       "        event = event.originalEvent;\n",
       "        event['data'] = 'scroll'\n",
       "        if (event.deltaY < 0) {\n",
       "            event.step = 1;\n",
       "        } else {\n",
       "            event.step = -1;\n",
       "        }\n",
       "        mouse_event_fn(event);\n",
       "    });\n",
       "\n",
       "    canvas_div.append(canvas);\n",
       "    canvas_div.append(rubberband);\n",
       "\n",
       "    this.rubberband = rubberband;\n",
       "    this.rubberband_canvas = rubberband[0];\n",
       "    this.rubberband_context = rubberband[0].getContext(\"2d\");\n",
       "    this.rubberband_context.strokeStyle = \"#000000\";\n",
       "\n",
       "    this._resize_canvas = function(width, height) {\n",
       "        // Keep the size of the canvas, canvas container, and rubber band\n",
       "        // canvas in synch.\n",
       "        canvas_div.css('width', width)\n",
       "        canvas_div.css('height', height)\n",
       "\n",
       "        canvas.attr('width', width * mpl.ratio);\n",
       "        canvas.attr('height', height * mpl.ratio);\n",
       "        canvas.attr('style', 'width: ' + width + 'px; height: ' + height + 'px;');\n",
       "\n",
       "        rubberband.attr('width', width);\n",
       "        rubberband.attr('height', height);\n",
       "    }\n",
       "\n",
       "    // Set the figure to an initial 600x600px, this will subsequently be updated\n",
       "    // upon first draw.\n",
       "    this._resize_canvas(600, 600);\n",
       "\n",
       "    // Disable right mouse context menu.\n",
       "    $(this.rubberband_canvas).bind(\"contextmenu\",function(e){\n",
       "        return false;\n",
       "    });\n",
       "\n",
       "    function set_focus () {\n",
       "        canvas.focus();\n",
       "        canvas_div.focus();\n",
       "    }\n",
       "\n",
       "    window.setTimeout(set_focus, 100);\n",
       "}\n",
       "\n",
       "mpl.figure.prototype._init_toolbar = function() {\n",
       "    var fig = this;\n",
       "\n",
       "    var nav_element = $('<div/>')\n",
       "    nav_element.attr('style', 'width: 100%');\n",
       "    this.root.append(nav_element);\n",
       "\n",
       "    // Define a callback function for later on.\n",
       "    function toolbar_event(event) {\n",
       "        return fig.toolbar_button_onclick(event['data']);\n",
       "    }\n",
       "    function toolbar_mouse_event(event) {\n",
       "        return fig.toolbar_button_onmouseover(event['data']);\n",
       "    }\n",
       "\n",
       "    for(var toolbar_ind in mpl.toolbar_items) {\n",
       "        var name = mpl.toolbar_items[toolbar_ind][0];\n",
       "        var tooltip = mpl.toolbar_items[toolbar_ind][1];\n",
       "        var image = mpl.toolbar_items[toolbar_ind][2];\n",
       "        var method_name = mpl.toolbar_items[toolbar_ind][3];\n",
       "\n",
       "        if (!name) {\n",
       "            // put a spacer in here.\n",
       "            continue;\n",
       "        }\n",
       "        var button = $('<button/>');\n",
       "        button.addClass('ui-button ui-widget ui-state-default ui-corner-all ' +\n",
       "                        'ui-button-icon-only');\n",
       "        button.attr('role', 'button');\n",
       "        button.attr('aria-disabled', 'false');\n",
       "        button.click(method_name, toolbar_event);\n",
       "        button.mouseover(tooltip, toolbar_mouse_event);\n",
       "\n",
       "        var icon_img = $('<span/>');\n",
       "        icon_img.addClass('ui-button-icon-primary ui-icon');\n",
       "        icon_img.addClass(image);\n",
       "        icon_img.addClass('ui-corner-all');\n",
       "\n",
       "        var tooltip_span = $('<span/>');\n",
       "        tooltip_span.addClass('ui-button-text');\n",
       "        tooltip_span.html(tooltip);\n",
       "\n",
       "        button.append(icon_img);\n",
       "        button.append(tooltip_span);\n",
       "\n",
       "        nav_element.append(button);\n",
       "    }\n",
       "\n",
       "    var fmt_picker_span = $('<span/>');\n",
       "\n",
       "    var fmt_picker = $('<select/>');\n",
       "    fmt_picker.addClass('mpl-toolbar-option ui-widget ui-widget-content');\n",
       "    fmt_picker_span.append(fmt_picker);\n",
       "    nav_element.append(fmt_picker_span);\n",
       "    this.format_dropdown = fmt_picker[0];\n",
       "\n",
       "    for (var ind in mpl.extensions) {\n",
       "        var fmt = mpl.extensions[ind];\n",
       "        var option = $(\n",
       "            '<option/>', {selected: fmt === mpl.default_extension}).html(fmt);\n",
       "        fmt_picker.append(option)\n",
       "    }\n",
       "\n",
       "    // Add hover states to the ui-buttons\n",
       "    $( \".ui-button\" ).hover(\n",
       "        function() { $(this).addClass(\"ui-state-hover\");},\n",
       "        function() { $(this).removeClass(\"ui-state-hover\");}\n",
       "    );\n",
       "\n",
       "    var status_bar = $('<span class=\"mpl-message\"/>');\n",
       "    nav_element.append(status_bar);\n",
       "    this.message = status_bar[0];\n",
       "}\n",
       "\n",
       "mpl.figure.prototype.request_resize = function(x_pixels, y_pixels) {\n",
       "    // Request matplotlib to resize the figure. Matplotlib will then trigger a resize in the client,\n",
       "    // which will in turn request a refresh of the image.\n",
       "    this.send_message('resize', {'width': x_pixels, 'height': y_pixels});\n",
       "}\n",
       "\n",
       "mpl.figure.prototype.send_message = function(type, properties) {\n",
       "    properties['type'] = type;\n",
       "    properties['figure_id'] = this.id;\n",
       "    this.ws.send(JSON.stringify(properties));\n",
       "}\n",
       "\n",
       "mpl.figure.prototype.send_draw_message = function() {\n",
       "    if (!this.waiting) {\n",
       "        this.waiting = true;\n",
       "        this.ws.send(JSON.stringify({type: \"draw\", figure_id: this.id}));\n",
       "    }\n",
       "}\n",
       "\n",
       "\n",
       "mpl.figure.prototype.handle_save = function(fig, msg) {\n",
       "    var format_dropdown = fig.format_dropdown;\n",
       "    var format = format_dropdown.options[format_dropdown.selectedIndex].value;\n",
       "    fig.ondownload(fig, format);\n",
       "}\n",
       "\n",
       "\n",
       "mpl.figure.prototype.handle_resize = function(fig, msg) {\n",
       "    var size = msg['size'];\n",
       "    if (size[0] != fig.canvas.width || size[1] != fig.canvas.height) {\n",
       "        fig._resize_canvas(size[0], size[1]);\n",
       "        fig.send_message(\"refresh\", {});\n",
       "    };\n",
       "}\n",
       "\n",
       "mpl.figure.prototype.handle_rubberband = function(fig, msg) {\n",
       "    var x0 = msg['x0'] / mpl.ratio;\n",
       "    var y0 = (fig.canvas.height - msg['y0']) / mpl.ratio;\n",
       "    var x1 = msg['x1'] / mpl.ratio;\n",
       "    var y1 = (fig.canvas.height - msg['y1']) / mpl.ratio;\n",
       "    x0 = Math.floor(x0) + 0.5;\n",
       "    y0 = Math.floor(y0) + 0.5;\n",
       "    x1 = Math.floor(x1) + 0.5;\n",
       "    y1 = Math.floor(y1) + 0.5;\n",
       "    var min_x = Math.min(x0, x1);\n",
       "    var min_y = Math.min(y0, y1);\n",
       "    var width = Math.abs(x1 - x0);\n",
       "    var height = Math.abs(y1 - y0);\n",
       "\n",
       "    fig.rubberband_context.clearRect(\n",
       "        0, 0, fig.canvas.width, fig.canvas.height);\n",
       "\n",
       "    fig.rubberband_context.strokeRect(min_x, min_y, width, height);\n",
       "}\n",
       "\n",
       "mpl.figure.prototype.handle_figure_label = function(fig, msg) {\n",
       "    // Updates the figure title.\n",
       "    fig.header.textContent = msg['label'];\n",
       "}\n",
       "\n",
       "mpl.figure.prototype.handle_cursor = function(fig, msg) {\n",
       "    var cursor = msg['cursor'];\n",
       "    switch(cursor)\n",
       "    {\n",
       "    case 0:\n",
       "        cursor = 'pointer';\n",
       "        break;\n",
       "    case 1:\n",
       "        cursor = 'default';\n",
       "        break;\n",
       "    case 2:\n",
       "        cursor = 'crosshair';\n",
       "        break;\n",
       "    case 3:\n",
       "        cursor = 'move';\n",
       "        break;\n",
       "    }\n",
       "    fig.rubberband_canvas.style.cursor = cursor;\n",
       "}\n",
       "\n",
       "mpl.figure.prototype.handle_message = function(fig, msg) {\n",
       "    fig.message.textContent = msg['message'];\n",
       "}\n",
       "\n",
       "mpl.figure.prototype.handle_draw = function(fig, msg) {\n",
       "    // Request the server to send over a new figure.\n",
       "    fig.send_draw_message();\n",
       "}\n",
       "\n",
       "mpl.figure.prototype.handle_image_mode = function(fig, msg) {\n",
       "    fig.image_mode = msg['mode'];\n",
       "}\n",
       "\n",
       "mpl.figure.prototype.updated_canvas_event = function() {\n",
       "    // Called whenever the canvas gets updated.\n",
       "    this.send_message(\"ack\", {});\n",
       "}\n",
       "\n",
       "// A function to construct a web socket function for onmessage handling.\n",
       "// Called in the figure constructor.\n",
       "mpl.figure.prototype._make_on_message_function = function(fig) {\n",
       "    return function socket_on_message(evt) {\n",
       "        if (evt.data instanceof Blob) {\n",
       "            /* FIXME: We get \"Resource interpreted as Image but\n",
       "             * transferred with MIME type text/plain:\" errors on\n",
       "             * Chrome.  But how to set the MIME type?  It doesn't seem\n",
       "             * to be part of the websocket stream */\n",
       "            evt.data.type = \"image/png\";\n",
       "\n",
       "            /* Free the memory for the previous frames */\n",
       "            if (fig.imageObj.src) {\n",
       "                (window.URL || window.webkitURL).revokeObjectURL(\n",
       "                    fig.imageObj.src);\n",
       "            }\n",
       "\n",
       "            fig.imageObj.src = (window.URL || window.webkitURL).createObjectURL(\n",
       "                evt.data);\n",
       "            fig.updated_canvas_event();\n",
       "            fig.waiting = false;\n",
       "            return;\n",
       "        }\n",
       "        else if (typeof evt.data === 'string' && evt.data.slice(0, 21) == \"data:image/png;base64\") {\n",
       "            fig.imageObj.src = evt.data;\n",
       "            fig.updated_canvas_event();\n",
       "            fig.waiting = false;\n",
       "            return;\n",
       "        }\n",
       "\n",
       "        var msg = JSON.parse(evt.data);\n",
       "        var msg_type = msg['type'];\n",
       "\n",
       "        // Call the  \"handle_{type}\" callback, which takes\n",
       "        // the figure and JSON message as its only arguments.\n",
       "        try {\n",
       "            var callback = fig[\"handle_\" + msg_type];\n",
       "        } catch (e) {\n",
       "            console.log(\"No handler for the '\" + msg_type + \"' message type: \", msg);\n",
       "            return;\n",
       "        }\n",
       "\n",
       "        if (callback) {\n",
       "            try {\n",
       "                // console.log(\"Handling '\" + msg_type + \"' message: \", msg);\n",
       "                callback(fig, msg);\n",
       "            } catch (e) {\n",
       "                console.log(\"Exception inside the 'handler_\" + msg_type + \"' callback:\", e, e.stack, msg);\n",
       "            }\n",
       "        }\n",
       "    };\n",
       "}\n",
       "\n",
       "// from http://stackoverflow.com/questions/1114465/getting-mouse-location-in-canvas\n",
       "mpl.findpos = function(e) {\n",
       "    //this section is from http://www.quirksmode.org/js/events_properties.html\n",
       "    var targ;\n",
       "    if (!e)\n",
       "        e = window.event;\n",
       "    if (e.target)\n",
       "        targ = e.target;\n",
       "    else if (e.srcElement)\n",
       "        targ = e.srcElement;\n",
       "    if (targ.nodeType == 3) // defeat Safari bug\n",
       "        targ = targ.parentNode;\n",
       "\n",
       "    // jQuery normalizes the pageX and pageY\n",
       "    // pageX,Y are the mouse positions relative to the document\n",
       "    // offset() returns the position of the element relative to the document\n",
       "    var x = e.pageX - $(targ).offset().left;\n",
       "    var y = e.pageY - $(targ).offset().top;\n",
       "\n",
       "    return {\"x\": x, \"y\": y};\n",
       "};\n",
       "\n",
       "/*\n",
       " * return a copy of an object with only non-object keys\n",
       " * we need this to avoid circular references\n",
       " * http://stackoverflow.com/a/24161582/3208463\n",
       " */\n",
       "function simpleKeys (original) {\n",
       "  return Object.keys(original).reduce(function (obj, key) {\n",
       "    if (typeof original[key] !== 'object')\n",
       "        obj[key] = original[key]\n",
       "    return obj;\n",
       "  }, {});\n",
       "}\n",
       "\n",
       "mpl.figure.prototype.mouse_event = function(event, name) {\n",
       "    var canvas_pos = mpl.findpos(event)\n",
       "\n",
       "    if (name === 'button_press')\n",
       "    {\n",
       "        this.canvas.focus();\n",
       "        this.canvas_div.focus();\n",
       "    }\n",
       "\n",
       "    var x = canvas_pos.x * mpl.ratio;\n",
       "    var y = canvas_pos.y * mpl.ratio;\n",
       "\n",
       "    this.send_message(name, {x: x, y: y, button: event.button,\n",
       "                             step: event.step,\n",
       "                             guiEvent: simpleKeys(event)});\n",
       "\n",
       "    /* This prevents the web browser from automatically changing to\n",
       "     * the text insertion cursor when the button is pressed.  We want\n",
       "     * to control all of the cursor setting manually through the\n",
       "     * 'cursor' event from matplotlib */\n",
       "    event.preventDefault();\n",
       "    return false;\n",
       "}\n",
       "\n",
       "mpl.figure.prototype._key_event_extra = function(event, name) {\n",
       "    // Handle any extra behaviour associated with a key event\n",
       "}\n",
       "\n",
       "mpl.figure.prototype.key_event = function(event, name) {\n",
       "\n",
       "    // Prevent repeat events\n",
       "    if (name == 'key_press')\n",
       "    {\n",
       "        if (event.which === this._key)\n",
       "            return;\n",
       "        else\n",
       "            this._key = event.which;\n",
       "    }\n",
       "    if (name == 'key_release')\n",
       "        this._key = null;\n",
       "\n",
       "    var value = '';\n",
       "    if (event.ctrlKey && event.which != 17)\n",
       "        value += \"ctrl+\";\n",
       "    if (event.altKey && event.which != 18)\n",
       "        value += \"alt+\";\n",
       "    if (event.shiftKey && event.which != 16)\n",
       "        value += \"shift+\";\n",
       "\n",
       "    value += 'k';\n",
       "    value += event.which.toString();\n",
       "\n",
       "    this._key_event_extra(event, name);\n",
       "\n",
       "    this.send_message(name, {key: value,\n",
       "                             guiEvent: simpleKeys(event)});\n",
       "    return false;\n",
       "}\n",
       "\n",
       "mpl.figure.prototype.toolbar_button_onclick = function(name) {\n",
       "    if (name == 'download') {\n",
       "        this.handle_save(this, null);\n",
       "    } else {\n",
       "        this.send_message(\"toolbar_button\", {name: name});\n",
       "    }\n",
       "};\n",
       "\n",
       "mpl.figure.prototype.toolbar_button_onmouseover = function(tooltip) {\n",
       "    this.message.textContent = tooltip;\n",
       "};\n",
       "mpl.toolbar_items = [[\"Home\", \"Reset original view\", \"fa fa-home icon-home\", \"home\"], [\"Back\", \"Back to  previous view\", \"fa fa-arrow-left icon-arrow-left\", \"back\"], [\"Forward\", \"Forward to next view\", \"fa fa-arrow-right icon-arrow-right\", \"forward\"], [\"\", \"\", \"\", \"\"], [\"Pan\", \"Pan axes with left mouse, zoom with right\", \"fa fa-arrows icon-move\", \"pan\"], [\"Zoom\", \"Zoom to rectangle\", \"fa fa-square-o icon-check-empty\", \"zoom\"], [\"\", \"\", \"\", \"\"], [\"Download\", \"Download plot\", \"fa fa-floppy-o icon-save\", \"download\"]];\n",
       "\n",
       "mpl.extensions = [\"eps\", \"jpeg\", \"pdf\", \"png\", \"ps\", \"raw\", \"svg\", \"tif\"];\n",
       "\n",
       "mpl.default_extension = \"png\";var comm_websocket_adapter = function(comm) {\n",
       "    // Create a \"websocket\"-like object which calls the given IPython comm\n",
       "    // object with the appropriate methods. Currently this is a non binary\n",
       "    // socket, so there is still some room for performance tuning.\n",
       "    var ws = {};\n",
       "\n",
       "    ws.close = function() {\n",
       "        comm.close()\n",
       "    };\n",
       "    ws.send = function(m) {\n",
       "        //console.log('sending', m);\n",
       "        comm.send(m);\n",
       "    };\n",
       "    // Register the callback with on_msg.\n",
       "    comm.on_msg(function(msg) {\n",
       "        //console.log('receiving', msg['content']['data'], msg);\n",
       "        // Pass the mpl event to the overriden (by mpl) onmessage function.\n",
       "        ws.onmessage(msg['content']['data'])\n",
       "    });\n",
       "    return ws;\n",
       "}\n",
       "\n",
       "mpl.mpl_figure_comm = function(comm, msg) {\n",
       "    // This is the function which gets called when the mpl process\n",
       "    // starts-up an IPython Comm through the \"matplotlib\" channel.\n",
       "\n",
       "    var id = msg.content.data.id;\n",
       "    // Get hold of the div created by the display call when the Comm\n",
       "    // socket was opened in Python.\n",
       "    var element = $(\"#\" + id);\n",
       "    var ws_proxy = comm_websocket_adapter(comm)\n",
       "\n",
       "    function ondownload(figure, format) {\n",
       "        window.open(figure.imageObj.src);\n",
       "    }\n",
       "\n",
       "    var fig = new mpl.figure(id, ws_proxy,\n",
       "                           ondownload,\n",
       "                           element.get(0));\n",
       "\n",
       "    // Call onopen now - mpl needs it, as it is assuming we've passed it a real\n",
       "    // web socket which is closed, not our websocket->open comm proxy.\n",
       "    ws_proxy.onopen();\n",
       "\n",
       "    fig.parent_element = element.get(0);\n",
       "    fig.cell_info = mpl.find_output_cell(\"<div id='\" + id + \"'></div>\");\n",
       "    if (!fig.cell_info) {\n",
       "        console.error(\"Failed to find cell for figure\", id, fig);\n",
       "        return;\n",
       "    }\n",
       "\n",
       "    var output_index = fig.cell_info[2]\n",
       "    var cell = fig.cell_info[0];\n",
       "\n",
       "};\n",
       "\n",
       "mpl.figure.prototype.handle_close = function(fig, msg) {\n",
       "    var width = fig.canvas.width/mpl.ratio\n",
       "    fig.root.unbind('remove')\n",
       "\n",
       "    // Update the output cell to use the data from the current canvas.\n",
       "    fig.push_to_output();\n",
       "    var dataURL = fig.canvas.toDataURL();\n",
       "    // Re-enable the keyboard manager in IPython - without this line, in FF,\n",
       "    // the notebook keyboard shortcuts fail.\n",
       "    IPython.keyboard_manager.enable()\n",
       "    $(fig.parent_element).html('<img src=\"' + dataURL + '\" width=\"' + width + '\">');\n",
       "    fig.close_ws(fig, msg);\n",
       "}\n",
       "\n",
       "mpl.figure.prototype.close_ws = function(fig, msg){\n",
       "    fig.send_message('closing', msg);\n",
       "    // fig.ws.close()\n",
       "}\n",
       "\n",
       "mpl.figure.prototype.push_to_output = function(remove_interactive) {\n",
       "    // Turn the data on the canvas into data in the output cell.\n",
       "    var width = this.canvas.width/mpl.ratio\n",
       "    var dataURL = this.canvas.toDataURL();\n",
       "    this.cell_info[1]['text/html'] = '<img src=\"' + dataURL + '\" width=\"' + width + '\">';\n",
       "}\n",
       "\n",
       "mpl.figure.prototype.updated_canvas_event = function() {\n",
       "    // Tell IPython that the notebook contents must change.\n",
       "    IPython.notebook.set_dirty(true);\n",
       "    this.send_message(\"ack\", {});\n",
       "    var fig = this;\n",
       "    // Wait a second, then push the new image to the DOM so\n",
       "    // that it is saved nicely (might be nice to debounce this).\n",
       "    setTimeout(function () { fig.push_to_output() }, 1000);\n",
       "}\n",
       "\n",
       "mpl.figure.prototype._init_toolbar = function() {\n",
       "    var fig = this;\n",
       "\n",
       "    var nav_element = $('<div/>')\n",
       "    nav_element.attr('style', 'width: 100%');\n",
       "    this.root.append(nav_element);\n",
       "\n",
       "    // Define a callback function for later on.\n",
       "    function toolbar_event(event) {\n",
       "        return fig.toolbar_button_onclick(event['data']);\n",
       "    }\n",
       "    function toolbar_mouse_event(event) {\n",
       "        return fig.toolbar_button_onmouseover(event['data']);\n",
       "    }\n",
       "\n",
       "    for(var toolbar_ind in mpl.toolbar_items){\n",
       "        var name = mpl.toolbar_items[toolbar_ind][0];\n",
       "        var tooltip = mpl.toolbar_items[toolbar_ind][1];\n",
       "        var image = mpl.toolbar_items[toolbar_ind][2];\n",
       "        var method_name = mpl.toolbar_items[toolbar_ind][3];\n",
       "\n",
       "        if (!name) { continue; };\n",
       "\n",
       "        var button = $('<button class=\"btn btn-default\" href=\"#\" title=\"' + name + '\"><i class=\"fa ' + image + ' fa-lg\"></i></button>');\n",
       "        button.click(method_name, toolbar_event);\n",
       "        button.mouseover(tooltip, toolbar_mouse_event);\n",
       "        nav_element.append(button);\n",
       "    }\n",
       "\n",
       "    // Add the status bar.\n",
       "    var status_bar = $('<span class=\"mpl-message\" style=\"text-align:right; float: right;\"/>');\n",
       "    nav_element.append(status_bar);\n",
       "    this.message = status_bar[0];\n",
       "\n",
       "    // Add the close button to the window.\n",
       "    var buttongrp = $('<div class=\"btn-group inline pull-right\"></div>');\n",
       "    var button = $('<button class=\"btn btn-mini btn-primary\" href=\"#\" title=\"Stop Interaction\"><i class=\"fa fa-power-off icon-remove icon-large\"></i></button>');\n",
       "    button.click(function (evt) { fig.handle_close(fig, {}); } );\n",
       "    button.mouseover('Stop Interaction', toolbar_mouse_event);\n",
       "    buttongrp.append(button);\n",
       "    var titlebar = this.root.find($('.ui-dialog-titlebar'));\n",
       "    titlebar.prepend(buttongrp);\n",
       "}\n",
       "\n",
       "mpl.figure.prototype._root_extra_style = function(el){\n",
       "    var fig = this\n",
       "    el.on(\"remove\", function(){\n",
       "\tfig.close_ws(fig, {});\n",
       "    });\n",
       "}\n",
       "\n",
       "mpl.figure.prototype._canvas_extra_style = function(el){\n",
       "    // this is important to make the div 'focusable\n",
       "    el.attr('tabindex', 0)\n",
       "    // reach out to IPython and tell the keyboard manager to turn it's self\n",
       "    // off when our div gets focus\n",
       "\n",
       "    // location in version 3\n",
       "    if (IPython.notebook.keyboard_manager) {\n",
       "        IPython.notebook.keyboard_manager.register_events(el);\n",
       "    }\n",
       "    else {\n",
       "        // location in version 2\n",
       "        IPython.keyboard_manager.register_events(el);\n",
       "    }\n",
       "\n",
       "}\n",
       "\n",
       "mpl.figure.prototype._key_event_extra = function(event, name) {\n",
       "    var manager = IPython.notebook.keyboard_manager;\n",
       "    if (!manager)\n",
       "        manager = IPython.keyboard_manager;\n",
       "\n",
       "    // Check for shift+enter\n",
       "    if (event.shiftKey && event.which == 13) {\n",
       "        this.canvas_div.blur();\n",
       "        // select the cell after this one\n",
       "        var index = IPython.notebook.find_cell_index(this.cell_info[0]);\n",
       "        IPython.notebook.select(index + 1);\n",
       "    }\n",
       "}\n",
       "\n",
       "mpl.figure.prototype.handle_save = function(fig, msg) {\n",
       "    fig.ondownload(fig, null);\n",
       "}\n",
       "\n",
       "\n",
       "mpl.find_output_cell = function(html_output) {\n",
       "    // Return the cell and output element which can be found *uniquely* in the notebook.\n",
       "    // Note - this is a bit hacky, but it is done because the \"notebook_saving.Notebook\"\n",
       "    // IPython event is triggered only after the cells have been serialised, which for\n",
       "    // our purposes (turning an active figure into a static one), is too late.\n",
       "    var cells = IPython.notebook.get_cells();\n",
       "    var ncells = cells.length;\n",
       "    for (var i=0; i<ncells; i++) {\n",
       "        var cell = cells[i];\n",
       "        if (cell.cell_type === 'code'){\n",
       "            for (var j=0; j<cell.output_area.outputs.length; j++) {\n",
       "                var data = cell.output_area.outputs[j];\n",
       "                if (data.data) {\n",
       "                    // IPython >= 3 moved mimebundle to data attribute of output\n",
       "                    data = data.data;\n",
       "                }\n",
       "                if (data['text/html'] == html_output) {\n",
       "                    return [cell, data, j];\n",
       "                }\n",
       "            }\n",
       "        }\n",
       "    }\n",
       "}\n",
       "\n",
       "// Register the function which deals with the matplotlib target/channel.\n",
       "// The kernel may be null if the page has been refreshed.\n",
       "if (IPython.notebook.kernel != null) {\n",
       "    IPython.notebook.kernel.comm_manager.register_target('matplotlib', mpl.mpl_figure_comm);\n",
       "}\n"
      ],
      "text/plain": [
       "<IPython.core.display.Javascript object>"
      ]
     },
     "metadata": {},
     "output_type": "display_data"
    },
    {
     "data": {
      "text/html": [
       "<img src=\"data:image/png;base64,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\" width=\"980\">"
      ],
      "text/plain": [
       "<IPython.core.display.HTML object>"
      ]
     },
     "metadata": {},
     "output_type": "display_data"
    }
   ],
   "source": [
    "plt.figure()\n",
    "plt.plot(pt_plus,'-bo')\n",
    "plt.plot(pt_minus, '-ro')\n",
    "plt.show()"
   ]
  },
  {
   "cell_type": "code",
   "execution_count": 20,
   "metadata": {},
   "outputs": [
    {
     "name": "stdout",
     "output_type": "stream",
     "text": [
      "[{u'UFGA': 2, u'DFGM': 1, u'DIST': 2.35, u'DFG_PCT': 1.0, u'MIN': u'27:49', u'TCHS': 20, u'UFGM': 1, u'DFGA': 1, u'DRBC': 3, u'TEAM_ID': 1610612737, u'UFG_PCT': 0.5, u'PLAYER_ID': 1628989, u'CFG_PCT': 0.5, u'COMMENT': u'', u'SAST': 0, u'PLAYER_NAME': u'Kevin Huerter', u'AST': 2, u'TEAM_ABBREVIATION': u'ATL', u'START_POSITION': u'F', u'SPD': 4.76, u'PASS': 14, u'GAME_ID': u'0021800436', u'RBC': 5, u'FG_PCT': 0.5, u'FTAST': 0, u'CFGM': 1, u'ORBC': 2, u'CFGA': 2, u'TEAM_CITY': u'Atlanta'}, {u'UFGA': 5, u'DFGM': 5, u'DIST': 2.6, u'DFG_PCT': 0.625, u'MIN': u'33:55', u'TCHS': 92, u'UFGM': 3, u'DFGA': 8, u'DRBC': 8, u'TEAM_ID': 1610612737, u'UFG_PCT': 0.6, u'PLAYER_ID': 1628381, u'CFG_PCT': 0.714, u'COMMENT': u'', u'SAST': 0, u'PLAYER_NAME': u'John Collins', u'AST': 2, u'TEAM_ABBREVIATION': u'ATL', u'START_POSITION': u'F', u'SPD': 4.39, u'PASS': 64, u'GAME_ID': u'0021800436', u'RBC': 17, u'FG_PCT': 0.684, u'FTAST': 0, u'CFGM': 10, u'ORBC': 9, u'CFGA': 14, u'TEAM_CITY': u'Atlanta'}, {u'UFGA': 11, u'DFGM': 5, u'DIST': 2.47, u'DFG_PCT': 0.714, u'MIN': u'31:33', u'TCHS': 66, u'UFGM': 7, u'DFGA': 7, u'DRBC': 13, u'TEAM_ID': 1610612737, u'UFG_PCT': 0.636, u'PLAYER_ID': 203473, u'CFG_PCT': 1.0, u'COMMENT': u'', u'SAST': 1, u'PLAYER_NAME': u'Dewayne Dedmon', u'AST': 3, u'TEAM_ABBREVIATION': u'ATL', u'START_POSITION': u'C', u'SPD': 4.43, u'PASS': 53, u'GAME_ID': u'0021800436', u'RBC': 17, u'FG_PCT': 0.667, u'FTAST': 0, u'CFGM': 1, u'ORBC': 6, u'CFGA': 1, u'TEAM_CITY': u'Atlanta'}, {u'UFGA': 6, u'DFGM': 6, u'DIST': 2.59, u'DFG_PCT': 1.0, u'MIN': u'31:41', u'TCHS': 50, u'UFGM': 2, u'DFGA': 6, u'DRBC': 6, u'TEAM_ID': 1610612737, u'UFG_PCT': 0.333, u'PLAYER_ID': 203145, u'CFG_PCT': 0.571, u'COMMENT': u'', u'SAST': 0, u'PLAYER_NAME': u'Kent Bazemore', u'AST': 7, u'TEAM_ABBREVIATION': u'ATL', u'START_POSITION': u'G', u'SPD': 4.67, u'PASS': 31, u'GAME_ID': u'0021800436', u'RBC': 8, u'FG_PCT': 0.462, u'FTAST': 0, u'CFGM': 4, u'ORBC': 2, u'CFGA': 7, u'TEAM_CITY': u'Atlanta'}, {u'UFGA': 6, u'DFGM': 0, u'DIST': 2.39, u'DFG_PCT': 0.0, u'MIN': u'29:04', u'TCHS': 67, u'UFGM': 4, u'DFGA': 0, u'DRBC': 4, u'TEAM_ID': 1610612737, u'UFG_PCT': 0.667, u'PLAYER_ID': 1629027, u'CFG_PCT': 0.0, u'COMMENT': u'', u'SAST': 0, u'PLAYER_NAME': u'Trae Young', u'AST': 10, u'TEAM_ABBREVIATION': u'ATL', u'START_POSITION': u'G', u'SPD': 4.63, u'PASS': 48, u'GAME_ID': u'0021800436', u'RBC': 6, u'FG_PCT': 0.4, u'FTAST': 0, u'CFGM': 0, u'ORBC': 2, u'CFGA': 4, u'TEAM_CITY': u'Atlanta'}, {u'UFGA': 5, u'DFGM': 1, u'DIST': 1.12, u'DFG_PCT': 1.0, u'MIN': u'13:20', u'TCHS': 33, u'UFGM': 2, u'DFGA': 1, u'DRBC': 0, u'TEAM_ID': 1610612737, u'UFG_PCT': 0.4, u'PLAYER_ID': 202391, u'CFG_PCT': 0.0, u'COMMENT': u'', u'SAST': 0, u'PLAYER_NAME': u'Jeremy Lin', u'AST': 1, u'TEAM_ABBREVIATION': u'ATL', u'START_POSITION': u'', u'SPD': 4.88, u'PASS': 24, u'GAME_ID': u'0021800436', u'RBC': 0, u'FG_PCT': 0.4, u'FTAST': 1, u'CFGM': 0, u'ORBC': 0, u'CFGA': 0, u'TEAM_CITY': u'Atlanta'}, {u'UFGA': 3, u'DFGM': 2, u'DIST': 1.4, u'DFG_PCT': 0.667, u'MIN': u'19:14', u'TCHS': 23, u'UFGM': 1, u'DFGA': 3, u'DRBC': 0, u'TEAM_ID': 1610612737, u'UFG_PCT': 0.333, u'PLAYER_ID': 1713, u'CFG_PCT': 1.0, u'COMMENT': u'', u'SAST': 0, u'PLAYER_NAME': u'Vince Carter', u'AST': 3, u'TEAM_ABBREVIATION': u'ATL', u'START_POSITION': u'', u'SPD': 4.13, u'PASS': 18, u'GAME_ID': u'0021800436', u'RBC': 0, u'FG_PCT': 0.6, u'FTAST': 0, u'CFGM': 2, u'ORBC': 0, u'CFGA': 2, u'TEAM_CITY': u'Atlanta'}, {u'UFGA': 4, u'DFGM': 1, u'DIST': 1.87, u'DFG_PCT': 1.0, u'MIN': u'23:06', u'TCHS': 33, u'UFGM': 1, u'DFGA': 1, u'DRBC': 4, u'TEAM_ID': 1610612737, u'UFG_PCT': 0.25, u'PLAYER_ID': 1627761, u'CFG_PCT': 0.5, u'COMMENT': u'', u'SAST': 0, u'PLAYER_NAME': u\"DeAndre' Bembry\", u'AST': 4, u'TEAM_ABBREVIATION': u'ATL', u'START_POSITION': u'', u'SPD': 4.63, u'PASS': 20, u'GAME_ID': u'0021800436', u'RBC': 4, u'FG_PCT': 0.4, u'FTAST': 0, u'CFGM': 3, u'ORBC': 0, u'CFGA': 6, u'TEAM_CITY': u'Atlanta'}, {u'UFGA': 1, u'DFGM': 1, u'DIST': 0.65, u'DFG_PCT': 0.5, u'MIN': u'8:14', u'TCHS': 22, u'UFGM': 0, u'DFGA': 2, u'DRBC': 0, u'TEAM_ID': 1610612737, u'UFG_PCT': 0.0, u'PLAYER_ID': 203458, u'CFG_PCT': 1.0, u'COMMENT': u'', u'SAST': 0, u'PLAYER_NAME': u'Alex Len', u'AST': 1, u'TEAM_ABBREVIATION': u'ATL', u'START_POSITION': u'', u'SPD': 4.33, u'PASS': 18, u'GAME_ID': u'0021800436', u'RBC': 0, u'FG_PCT': 0.5, u'FTAST': 0, u'CFGM': 1, u'ORBC': 0, u'CFGA': 1, u'TEAM_CITY': u'Atlanta'}, {u'UFGA': 2, u'DFGM': 0, u'DIST': 1.18, u'DFG_PCT': 0.0, u'MIN': u'13:49', u'TCHS': 12, u'UFGM': 1, u'DFGA': 0, u'DRBC': 4, u'TEAM_ID': 1610612737, u'UFG_PCT': 0.5, u'PLAYER_ID': 1627772, u'CFG_PCT': 0.0, u'COMMENT': u'', u'SAST': 2, u'PLAYER_NAME': u'Daniel Hamilton', u'AST': 1, u'TEAM_ABBREVIATION': u'ATL', u'START_POSITION': u'', u'SPD': 4.79, u'PASS': 9, u'GAME_ID': u'0021800436', u'RBC': 5, u'FG_PCT': 0.5, u'FTAST': 0, u'CFGM': 0, u'ORBC': 1, u'CFGA': 0, u'TEAM_CITY': u'Atlanta'}, {u'UFGA': 2, u'DFGM': 0, u'DIST': 0.2, u'DFG_PCT': 0.0, u'MIN': u'2:45', u'TCHS': 7, u'UFGM': 2, u'DFGA': 0, u'DRBC': 2, u'TEAM_ID': 1610612737, u'UFG_PCT': 1.0, u'PLAYER_ID': 1626147, u'CFG_PCT': 0.0, u'COMMENT': u'', u'SAST': 0, u'PLAYER_NAME': u'Justin Anderson', u'AST': 2, u'TEAM_ABBREVIATION': u'ATL', u'START_POSITION': u'', u'SPD': 4.04, u'PASS': 4, u'GAME_ID': u'0021800436', u'RBC': 2, u'FG_PCT': 1.0, u'FTAST': 0, u'CFGM': 0, u'ORBC': 0, u'CFGA': 0, u'TEAM_CITY': u'Atlanta'}, {u'UFGA': 1, u'DFGM': 0, u'DIST': 0.22, u'DFG_PCT': 0.0, u'MIN': u'2:45', u'TCHS': 5, u'UFGM': 1, u'DFGA': 0, u'DRBC': 0, u'TEAM_ID': 1610612737, u'UFG_PCT': 1.0, u'PLAYER_ID': 1629121, u'CFG_PCT': 0.0, u'COMMENT': u'', u'SAST': 0, u'PLAYER_NAME': u'Jaylen Adams', u'AST': 1, u'TEAM_ABBREVIATION': u'ATL', u'START_POSITION': u'', u'SPD': 4.37, u'PASS': 3, u'GAME_ID': u'0021800436', u'RBC': 0, u'FG_PCT': 1.0, u'FTAST': 0, u'CFGM': 0, u'ORBC': 0, u'CFGA': 0, u'TEAM_CITY': u'Atlanta'}, {u'UFGA': 0, u'DFGM': 0, u'DIST': 0.21, u'DFG_PCT': 0.0, u'MIN': u'2:45', u'TCHS': 2, u'UFGM': 0, u'DFGA': 0, u'DRBC': 1, u'TEAM_ID': 1610612737, u'UFG_PCT': 0.0, u'PLAYER_ID': 1628416, u'CFG_PCT': 0.0, u'COMMENT': u'', u'SAST': 0, u'PLAYER_NAME': u'Tyler Dorsey', u'AST': 1, u'TEAM_ABBREVIATION': u'ATL', u'START_POSITION': u'', u'SPD': 4.2, u'PASS': 2, u'GAME_ID': u'0021800436', u'RBC': 1, u'FG_PCT': 0.0, u'FTAST': 0, u'CFGM': 0, u'ORBC': 0, u'CFGA': 0, u'TEAM_CITY': u'Atlanta'}, {u'UFGA': 6, u'DFGM': 3, u'DIST': 2.48, u'DFG_PCT': 0.5, u'MIN': u'28:24', u'TCHS': 35, u'UFGM': 3, u'DFGA': 6, u'DRBC': 7, u'TEAM_ID': 1610612751, u'UFG_PCT': 0.5, u'PLAYER_ID': 1629066, u'CFG_PCT': 0.333, u'COMMENT': u'', u'SAST': 0, u'PLAYER_NAME': u'Rodions Kurucs', u'AST': 4, u'TEAM_ABBREVIATION': u'BKN', u'START_POSITION': u'F', u'SPD': 4.97, u'PASS': 22, u'GAME_ID': u'0021800436', u'RBC': 10, u'FG_PCT': 0.444, u'FTAST': 0, u'CFGM': 1, u'ORBC': 3, u'CFGA': 3, u'TEAM_CITY': u'Brooklyn'}, {u'UFGA': 2, u'DFGM': 1, u'DIST': 1.77, u'DFG_PCT': 1.0, u'MIN': u'22:37', u'TCHS': 58, u'UFGM': 1, u'DFGA': 1, u'DRBC': 8, u'TEAM_ID': 1610612751, u'UFG_PCT': 0.5, u'PLAYER_ID': 1626178, u'CFG_PCT': 0.625, u'COMMENT': u'', u'SAST': 0, u'PLAYER_NAME': u'Rondae Hollis-Jefferson', u'AST': 3, u'TEAM_ABBREVIATION': u'BKN', u'START_POSITION': u'F', u'SPD': 4.47, u'PASS': 45, u'GAME_ID': u'0021800436', u'RBC': 12, u'FG_PCT': 0.6, u'FTAST': 0, u'CFGM': 5, u'ORBC': 4, u'CFGA': 8, u'TEAM_CITY': u'Brooklyn'}, {u'UFGA': 2, u'DFGM': 3, u'DIST': 1.09, u'DFG_PCT': 0.75, u'MIN': u'14:35', u'TCHS': 24, u'UFGM': 2, u'DFGA': 4, u'DRBC': 5, u'TEAM_ID': 1610612751, u'UFG_PCT': 1.0, u'PLAYER_ID': 1628386, u'CFG_PCT': 0.75, u'COMMENT': u'', u'SAST': 0, u'PLAYER_NAME': u'Jarrett Allen', u'AST': 0, u'TEAM_ABBREVIATION': u'BKN', u'START_POSITION': u'C', u'SPD': 4.32, u'PASS': 18, u'GAME_ID': u'0021800436', u'RBC': 9, u'FG_PCT': 0.833, u'FTAST': 0, u'CFGM': 3, u'ORBC': 5, u'CFGA': 4, u'TEAM_CITY': u'Brooklyn'}, {u'UFGA': 6, u'DFGM': 1, u'DIST': 2.19, u'DFG_PCT': 1.0, u'MIN': u'25:45', u'TCHS': 36, u'UFGM': 3, u'DFGA': 1, u'DRBC': 3, u'TEAM_ID': 1610612751, u'UFG_PCT': 0.5, u'PLAYER_ID': 203925, u'CFG_PCT': 1.0, u'COMMENT': u'', u'SAST': 0, u'PLAYER_NAME': u'Joe Harris', u'AST': 6, u'TEAM_ABBREVIATION': u'BKN', u'START_POSITION': u'G', u'SPD': 4.88, u'PASS': 24, u'GAME_ID': u'0021800436', u'RBC': 3, u'FG_PCT': 0.571, u'FTAST': 0, u'CFGM': 1, u'ORBC': 0, u'CFGA': 1, u'TEAM_CITY': u'Brooklyn'}, {u'UFGA': 10, u'DFGM': 2, u'DIST': 2.34, u'DFG_PCT': 0.5, u'MIN': u'29:24', u'TCHS': 80, u'UFGM': 6, u'DFGA': 4, u'DRBC': 6, u'TEAM_ID': 1610612751, u'UFG_PCT': 0.6, u'PLAYER_ID': 1626156, u'CFG_PCT': 0.778, u'COMMENT': u'', u'SAST': 2, u'PLAYER_NAME': u\"D'Angelo Russell\", u'AST': 7, u'TEAM_ABBREVIATION': u'BKN', u'START_POSITION': u'G', u'SPD': 4.51, u'PASS': 58, u'GAME_ID': u'0021800436', u'RBC': 8, u'FG_PCT': 0.684, u'FTAST': 0, u'CFGM': 7, u'ORBC': 2, u'CFGA': 9, u'TEAM_CITY': u'Brooklyn'}, {u'UFGA': 4, u'DFGM': 1, u'DIST': 1.85, u'DFG_PCT': 1.0, u'MIN': u'24:01', u'TCHS': 58, u'UFGM': 2, u'DFGA': 1, u'DRBC': 4, u'TEAM_ID': 1610612751, u'UFG_PCT': 0.5, u'PLAYER_ID': 203915, u'CFG_PCT': 0.25, u'COMMENT': u'', u'SAST': 0, u'PLAYER_NAME': u'Spencer Dinwiddie', u'AST': 5, u'TEAM_ABBREVIATION': u'BKN', u'START_POSITION': u'', u'SPD': 4.34, u'PASS': 43, u'GAME_ID': u'0021800436', u'RBC': 5, u'FG_PCT': 0.375, u'FTAST': 0, u'CFGM': 1, u'ORBC': 1, u'CFGA': 4, u'TEAM_CITY': u'Brooklyn'}, {u'UFGA': 10, u'DFGM': 3, u'DIST': 2.38, u'DFG_PCT': 1.0, u'MIN': u'31:29', u'TCHS': 39, u'UFGM': 3, u'DFGA': 3, u'DRBC': 5, u'TEAM_ID': 1610612751, u'UFG_PCT': 0.3, u'PLAYER_ID': 201960, u'CFG_PCT': 0.667, u'COMMENT': u'', u'SAST': 1, u'PLAYER_NAME': u'DeMarre Carroll', u'AST': 1, u'TEAM_ABBREVIATION': u'BKN', u'START_POSITION': u'', u'SPD': 4.25, u'PASS': 21, u'GAME_ID': u'0021800436', u'RBC': 10, u'FG_PCT': 0.385, u'FTAST': 0, u'CFGM': 2, u'ORBC': 5, u'CFGA': 3, u'TEAM_CITY': u'Brooklyn'}, {u'UFGA': 2, u'DFGM': 4, u'DIST': 2.2, u'DFG_PCT': 0.667, u'MIN': u'28:28', u'TCHS': 61, u'UFGM': 0, u'DFGA': 6, u'DRBC': 10, u'TEAM_ID': 1610612751, u'UFG_PCT': 0.0, u'PLAYER_ID': 202334, u'CFG_PCT': 0.8, u'COMMENT': u'', u'SAST': 0, u'PLAYER_NAME': u'Ed Davis', u'AST': 5, u'TEAM_ABBREVIATION': u'BKN', u'START_POSITION': u'', u'SPD': 4.35, u'PASS': 50, u'GAME_ID': u'0021800436', u'RBC': 16, u'FG_PCT': 0.571, u'FTAST': 0, u'CFGM': 4, u'ORBC': 8, u'CFGA': 5, u'TEAM_CITY': u'Brooklyn'}, {u'UFGA': 8, u'DFGM': 2, u'DIST': 1.81, u'DFG_PCT': 0.667, u'MIN': u'25:23', u'TCHS': 52, u'UFGM': 4, u'DFGA': 3, u'DRBC': 3, u'TEAM_ID': 1610612751, u'UFG_PCT': 0.5, u'PLAYER_ID': 201162, u'CFG_PCT': 1.0, u'COMMENT': u'', u'SAST': 0, u'PLAYER_NAME': u'Jared Dudley', u'AST': 2, u'TEAM_ABBREVIATION': u'BKN', u'START_POSITION': u'', u'SPD': 4.0, u'PASS': 42, u'GAME_ID': u'0021800436', u'RBC': 4, u'FG_PCT': 0.556, u'FTAST': 0, u'CFGM': 1, u'ORBC': 1, u'CFGA': 1, u'TEAM_CITY': u'Brooklyn'}, {u'UFGA': 0, u'DFGM': 0, u'DIST': 0.41, u'DFG_PCT': 0.0, u'MIN': u'4:57', u'TCHS': 12, u'UFGM': 0, u'DFGA': 0, u'DRBC': 0, u'TEAM_ID': 1610612751, u'UFG_PCT': 0.0, u'PLAYER_ID': 203894, u'CFG_PCT': 0.0, u'COMMENT': u'', u'SAST': 1, u'PLAYER_NAME': u'Shabazz Napier', u'AST': 0, u'TEAM_ABBREVIATION': u'BKN', u'START_POSITION': u'', u'SPD': 4.61, u'PASS': 10, u'GAME_ID': u'0021800436', u'RBC': 0, u'FG_PCT': 0.0, u'FTAST': 0, u'CFGM': 0, u'ORBC': 0, u'CFGA': 0, u'TEAM_CITY': u'Brooklyn'}, {u'UFGA': 0, u'DFGM': 0, u'DIST': 0.36, u'DFG_PCT': 0.0, u'MIN': u'4:57', u'TCHS': 7, u'UFGM': 0, u'DFGA': 0, u'DRBC': 1, u'TEAM_ID': 1610612751, u'UFG_PCT': 0.0, u'PLAYER_ID': 202702, u'CFG_PCT': 0.0, u'COMMENT': u'', u'SAST': 0, u'PLAYER_NAME': u'Kenneth Faried', u'AST': 1, u'TEAM_ABBREVIATION': u'BKN', u'START_POSITION': u'', u'SPD': 4.04, u'PASS': 7, u'GAME_ID': u'0021800436', u'RBC': 1, u'FG_PCT': 0.0, u'FTAST': 0, u'CFGM': 0, u'ORBC': 0, u'CFGA': 0, u'TEAM_CITY': u'Brooklyn'}, {u'UFGA': 0, u'DFGM': 0, u'DIST': 0.0, u'DFG_PCT': 0.0, u'MIN': u'0:00', u'TCHS': 0, u'UFGM': 0, u'DFGA': 0, u'DRBC': 0, u'TEAM_ID': 1610612751, u'UFG_PCT': 0.0, u'PLAYER_ID': 1626203, u'CFG_PCT': 0.0, u'COMMENT': u'DND - Injury/Illness                    ', u'SAST': 0, u'PLAYER_NAME': u'Treveon Graham', u'AST': 0, u'TEAM_ABBREVIATION': u'BKN', u'START_POSITION': u'', u'SPD': 0.0, u'PASS': 0, u'GAME_ID': u'0021800436', u'RBC': 0, u'FG_PCT': 0.0, u'FTAST': 0, u'CFGM': 0, u'ORBC': 0, u'CFGA': 0, u'TEAM_CITY': u'Brooklyn'}]\n"
     ]
    }
   ],
   "source": [
    "from nba_util import _api_scrape, _get_json\n",
    "\n",
    "# game stat per player\n",
    "json_info = _get_json('boxscoreplayertrackv2', {'GameID':'0021800436'}, referer='scores')\n",
    "player_df = _api_scrape(json_info, 0)\n",
    "print(player_df)\n",
    "\n"
   ]
  },
  {
   "cell_type": "code",
   "execution_count": 21,
   "metadata": {},
   "outputs": [
    {
     "data": {
      "text/plain": [
       "{u'AST': 2,\n",
       " u'CFGA': 2,\n",
       " u'CFGM': 1,\n",
       " u'CFG_PCT': 0.5,\n",
       " u'COMMENT': u'',\n",
       " u'DFGA': 1,\n",
       " u'DFGM': 1,\n",
       " u'DFG_PCT': 1.0,\n",
       " u'DIST': 2.35,\n",
       " u'DRBC': 3,\n",
       " u'FG_PCT': 0.5,\n",
       " u'FTAST': 0,\n",
       " u'GAME_ID': u'0021800436',\n",
       " u'MIN': u'27:49',\n",
       " u'ORBC': 2,\n",
       " u'PASS': 14,\n",
       " u'PLAYER_ID': 1628989,\n",
       " u'PLAYER_NAME': u'Kevin Huerter',\n",
       " u'RBC': 5,\n",
       " u'SAST': 0,\n",
       " u'SPD': 4.76,\n",
       " u'START_POSITION': u'F',\n",
       " u'TCHS': 20,\n",
       " u'TEAM_ABBREVIATION': u'ATL',\n",
       " u'TEAM_CITY': u'Atlanta',\n",
       " u'TEAM_ID': 1610612737,\n",
       " u'UFGA': 2,\n",
       " u'UFGM': 1,\n",
       " u'UFG_PCT': 0.5}"
      ]
     },
     "execution_count": 21,
     "metadata": {},
     "output_type": "execute_result"
    }
   ],
   "source": [
    "for player_stas in Atlanta()"
   ]
  },
  {
   "cell_type": "code",
   "execution_count": null,
   "metadata": {
    "collapsed": true
   },
   "outputs": [],
   "source": []
  }
 ],
 "metadata": {
  "celltoolbar": "Raw Cell Format",
  "kernelspec": {
   "display_name": "Python 2",
   "language": "python",
   "name": "python2"
  },
  "language_info": {
   "codemirror_mode": {
    "name": "ipython",
    "version": 2
   },
   "file_extension": ".py",
   "mimetype": "text/x-python",
   "name": "python",
   "nbconvert_exporter": "python",
   "pygments_lexer": "ipython2",
   "version": "2.7.13"
  }
 },
 "nbformat": 4,
 "nbformat_minor": 2
}
